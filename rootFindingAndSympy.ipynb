{
  "nbformat": 4,
  "nbformat_minor": 0,
  "metadata": {
    "colab": {
      "name": "rootFindingAndSympy.ipynb",
      "provenance": [],
      "authorship_tag": "ABX9TyMNq0WjQM+VBQZ0Ior/uqgY",
      "include_colab_link": true
    },
    "kernelspec": {
      "name": "python3",
      "display_name": "Python 3"
    }
  },
  "cells": [
    {
      "cell_type": "markdown",
      "metadata": {
        "id": "view-in-github",
        "colab_type": "text"
      },
      "source": [
        "<a href=\"https://colab.research.google.com/github/silvererudite/simulationAndModeling/blob/main/rootFindingAndSympy.ipynb\" target=\"_parent\"><img src=\"https://colab.research.google.com/assets/colab-badge.svg\" alt=\"Open In Colab\"/></a>"
      ]
    },
    {
      "cell_type": "code",
      "metadata": {
        "id": "QZqHB65g-GxT"
      },
      "source": [
        "import numpy as np\r\n",
        "import sympy\r\n",
        "from sympy import *\r\n",
        "import matplotlib.pyplot as plt\r\n",
        "from sympy.plotting import plot\r\n",
        "plt.rcParams['figure.figsize'] = 15, 5\r\n",
        "init_printing(use_unicode=True)"
      ],
      "execution_count": 75,
      "outputs": []
    },
    {
      "cell_type": "code",
      "metadata": {
        "colab": {
          "base_uri": "https://localhost:8080/",
          "height": 41
        },
        "id": "-uIFPeqv-88W",
        "outputId": "e44048bd-80ca-42b2-c86d-6cd0ad92e6ac"
      },
      "source": [
        "t = symbols('t')\r\n",
        "v = 3*t**2*exp(t**3)+(2*t)/((t**2)+1)+(tanh(t))**2+1\r\n",
        "v"
      ],
      "execution_count": 76,
      "outputs": [
        {
          "output_type": "execute_result",
          "data": {
            "image/png": "[encoded data removed]",
            "text/latex": "$$3 t^{2} e^{t^{3}} + \\frac{2 t}{t^{2} + 1} + \\tanh^{2}{\\left (t \\right )} + 1$$",
            "text/plain": [
              "      ⎛ 3⎞                        \n",
              "   2  ⎝t ⎠    2⋅t         2       \n",
              "3⋅t ⋅ℯ     + ────── + tanh (t) + 1\n",
              "              2                   \n",
              "             t  + 1               "
            ]
          },
          "metadata": {
            "tags": []
          },
          "execution_count": 76
        }
      ]
    },
    {
      "cell_type": "code",
      "metadata": {
        "colab": {
          "base_uri": "https://localhost:8080/",
          "height": 47
        },
        "id": "5gpFirg6AJoM",
        "outputId": "3fd82d85-7e90-43fe-943d-cdfbf98a1ec2"
      },
      "source": [
        "simplify(v)"
      ],
      "execution_count": 77,
      "outputs": [
        {
          "output_type": "execute_result",
          "data": {
            "image/png": "[encoded data removed]",
            "text/latex": "$$\\frac{1}{t^{2} + 1} \\left(2 t + \\left(t^{2} + 1\\right) \\left(3 t^{2} e^{t^{3}} + \\tanh^{2}{\\left (t \\right )} + 1\\right)\\right)$$",
            "text/plain": [
              "               ⎛      ⎛ 3⎞               ⎞\n",
              "      ⎛ 2    ⎞ ⎜   2  ⎝t ⎠       2       ⎟\n",
              "2⋅t + ⎝t  + 1⎠⋅⎝3⋅t ⋅ℯ     + tanh (t) + 1⎠\n",
              "──────────────────────────────────────────\n",
              "                   2                      \n",
              "                  t  + 1                  "
            ]
          },
          "metadata": {
            "tags": []
          },
          "execution_count": 77
        }
      ]
    },
    {
      "cell_type": "code",
      "metadata": {
        "colab": {
          "base_uri": "https://localhost:8080/"
        },
        "id": "LIskZOyVB82c",
        "outputId": "a28f55b2-f3f8-46e0-9b5e-f689ec84699c"
      },
      "source": [
        "#position\r\n",
        "distance = integrate(v,t)\r\n",
        "distance = distance.subs('t', 0.9)\r\n",
        "#velocity\r\n",
        "vel = v\r\n",
        "v = v.subs('t',0.9)\r\n",
        "#acceleration\r\n",
        "a = diff(vel,t)\r\n",
        "acc= a.subs('t',0.9)\r\n",
        "print('position',distance,'m')\r\n",
        "print('velocity',v,'m/s')\r\n",
        "print('acceleration',acc,'m/s**2')"
      ],
      "execution_count": 78,
      "outputs": [
        {
          "output_type": "stream",
          "text": [
            "position 3.75003553933970 m\n",
            "velocity 7.54496372812742 m/s\n",
            "acceleration 24.2486792211698 m/s**2\n"
          ],
          "name": "stdout"
        }
      ]
    },
    {
      "cell_type": "code",
      "metadata": {
        "colab": {
          "base_uri": "https://localhost:8080/",
          "height": 37
        },
        "id": "AvOtaAZjF47V",
        "outputId": "04aec27d-ac5c-432a-e605-faa263822d15"
      },
      "source": [
        "import scipy.integrate as integrate\r\n",
        "import scipy.special as special\r\n",
        "def velocity(t):\r\n",
        "  return 3*t**2*exp(t**3)+(2*t)/((t**2)+1)+(tanh(t))**2+1\r\n",
        "result = integrate.quad(velocity, 0, 2.5)\r\n",
        "result"
      ],
      "execution_count": 79,
      "outputs": [
        {
          "output_type": "execute_result",
          "data": {
            "image/png": "[encoded data removed]",
            "text/latex": "$$\\left ( 6107333.4852839075, \\quad 0.0009394390478405512\\right )$$",
            "text/plain": [
              "(6107333.4852839075, 0.0009394390478405512)"
            ]
          },
          "metadata": {
            "tags": []
          },
          "execution_count": 79
        }
      ]
    },
    {
      "cell_type": "code",
      "metadata": {
        "colab": {
          "base_uri": "https://localhost:8080/"
        },
        "id": "V5uAlB3gzqdz",
        "outputId": "e27f4579-96ce-4690-a2d9-2e91b101f86e"
      },
      "source": [
        "#accelration\r\n",
        "from scipy.misc import derivative\r\n",
        "print(derivative(velocity, 2.5))"
      ],
      "execution_count": 80,
      "outputs": [
        {
          "output_type": "stream",
          "text": [
            "7.66660802418189e+19\n"
          ],
          "name": "stdout"
        }
      ]
    },
    {
      "cell_type": "code",
      "metadata": {
        "colab": {
          "base_uri": "https://localhost:8080/",
          "height": 71
        },
        "id": "P4uYw4C92A2a",
        "outputId": "81401518-b52a-4572-b3d3-2e3fbb73eb77"
      },
      "source": [
        "from scipy import optimize\r\n",
        "def velocityNumpy(t):\r\n",
        "  return 3*t**2*np.exp(t**3)+(2*t)/((t**2)+1)+(np.tanh(t))**2+1\r\n",
        "\r\n",
        "root = optimize.newton(velocityNumpy, 1.5)\r\n",
        "root"
      ],
      "execution_count": 82,
      "outputs": [
        {
          "output_type": "stream",
          "text": [
            "/usr/local/lib/python3.6/dist-packages/ipykernel_launcher.py:3: RuntimeWarning: overflow encountered in exp\n",
            "  This is separate from the ipykernel package so we can avoid doing imports until\n"
          ],
          "name": "stderr"
        },
        {
          "output_type": "execute_result",
          "data": {
            "image/png": "[encoded data removed]",
            "text/latex": "$$-181.81396558417924$$",
            "text/plain": [
              "-181.81396558417924"
            ]
          },
          "metadata": {
            "tags": []
          },
          "execution_count": 82
        }
      ]
    },
    {
      "cell_type": "code",
      "metadata": {
        "id": "iLqyWDsF2QzY"
      },
      "source": [
        ""
      ],
      "execution_count": 82,
      "outputs": []
    }
  ]
}