{
  "nbformat": 4,
  "nbformat_minor": 0,
  "metadata": {
    "colab": {
      "name": "Gender_violence.ipynb",
      "provenance": [],
      "collapsed_sections": [],
      "mount_file_id": "1oazDHx-qbWQg64S4Kwl4UZB-3BYCE3uq",
      "authorship_tag": "ABX9TyNg+myJF7VG/e43isI1Ygy/",
      "include_colab_link": true
    },
    "kernelspec": {
      "name": "python3",
      "display_name": "Python 3"
    }
  },
  "cells": [
    {
      "cell_type": "markdown",
      "metadata": {
        "id": "view-in-github",
        "colab_type": "text"
      },
      "source": [
        "<a href=\"https://colab.research.google.com/github/silvererudite/simulationAndModeling/blob/main/Gender_violence.ipynb\" target=\"_parent\"><img src=\"https://colab.research.google.com/assets/colab-badge.svg\" alt=\"Open In Colab\"/></a>"
      ]
    },
    {
      "cell_type": "code",
      "metadata": {
        "id": "dRBqIcb6b54x"
      },
      "source": [
        "import pandas as pd\n",
        "import matplotlib.pyplot as plt\n",
        "import numpy as np\n",
        "%matplotlib inline\n",
        "plt.rcParams[\"figure.figsize\"] = [10, 5]\n",
        "import plotly.express as px\n",
        "import math"
      ],
      "execution_count": 290,
      "outputs": []
    },
    {
      "cell_type": "code",
      "metadata": {
        "colab": {
          "base_uri": "https://localhost:8080/",
          "height": 204
        },
        "id": "oKnhll-Xilh8",
        "outputId": "df802f11-4b1d-4e35-dc60-aef5fbe32543"
      },
      "source": [
        "violence_data= pd.read_csv('/content/drive/MyDrive/gender_violence_dataset/violence_data.csv')\n",
        "violence_data.head()"
      ],
      "execution_count": 291,
      "outputs": [
        {
          "output_type": "execute_result",
          "data": {
            "text/html": [
              "<div>\n",
              "<style scoped>\n",
              "    .dataframe tbody tr th:only-of-type {\n",
              "        vertical-align: middle;\n",
              "    }\n",
              "\n",
              "    .dataframe tbody tr th {\n",
              "        vertical-align: top;\n",
              "    }\n",
              "\n",
              "    .dataframe thead th {\n",
              "        text-align: right;\n",
              "    }\n",
              "</style>\n",
              "<table border=\"1\" class=\"dataframe\">\n",
              "  <thead>\n",
              "    <tr style=\"text-align: right;\">\n",
              "      <th></th>\n",
              "      <th>RecordID</th>\n",
              "      <th>Country</th>\n",
              "      <th>Gender</th>\n",
              "      <th>Demographics Question</th>\n",
              "      <th>Demographics Response</th>\n",
              "      <th>Question</th>\n",
              "      <th>Survey Year</th>\n",
              "      <th>Value</th>\n",
              "    </tr>\n",
              "  </thead>\n",
              "  <tbody>\n",
              "    <tr>\n",
              "      <th>0</th>\n",
              "      <td>1</td>\n",
              "      <td>Afghanistan</td>\n",
              "      <td>F</td>\n",
              "      <td>Marital status</td>\n",
              "      <td>Never married</td>\n",
              "      <td>... if she burns the food</td>\n",
              "      <td>01/01/2015</td>\n",
              "      <td>NaN</td>\n",
              "    </tr>\n",
              "    <tr>\n",
              "      <th>1</th>\n",
              "      <td>1</td>\n",
              "      <td>Afghanistan</td>\n",
              "      <td>F</td>\n",
              "      <td>Education</td>\n",
              "      <td>Higher</td>\n",
              "      <td>... if she burns the food</td>\n",
              "      <td>01/01/2015</td>\n",
              "      <td>10.1</td>\n",
              "    </tr>\n",
              "    <tr>\n",
              "      <th>2</th>\n",
              "      <td>1</td>\n",
              "      <td>Afghanistan</td>\n",
              "      <td>F</td>\n",
              "      <td>Education</td>\n",
              "      <td>Secondary</td>\n",
              "      <td>... if she burns the food</td>\n",
              "      <td>01/01/2015</td>\n",
              "      <td>13.7</td>\n",
              "    </tr>\n",
              "    <tr>\n",
              "      <th>3</th>\n",
              "      <td>1</td>\n",
              "      <td>Afghanistan</td>\n",
              "      <td>F</td>\n",
              "      <td>Education</td>\n",
              "      <td>Primary</td>\n",
              "      <td>... if she burns the food</td>\n",
              "      <td>01/01/2015</td>\n",
              "      <td>13.8</td>\n",
              "    </tr>\n",
              "    <tr>\n",
              "      <th>4</th>\n",
              "      <td>1</td>\n",
              "      <td>Afghanistan</td>\n",
              "      <td>F</td>\n",
              "      <td>Marital status</td>\n",
              "      <td>Widowed, divorced, separated</td>\n",
              "      <td>... if she burns the food</td>\n",
              "      <td>01/01/2015</td>\n",
              "      <td>13.8</td>\n",
              "    </tr>\n",
              "  </tbody>\n",
              "</table>\n",
              "</div>"
            ],
            "text/plain": [
              "   RecordID      Country Gender  ...                   Question Survey Year Value\n",
              "0         1  Afghanistan      F  ...  ... if she burns the food  01/01/2015   NaN\n",
              "1         1  Afghanistan      F  ...  ... if she burns the food  01/01/2015  10.1\n",
              "2         1  Afghanistan      F  ...  ... if she burns the food  01/01/2015  13.7\n",
              "3         1  Afghanistan      F  ...  ... if she burns the food  01/01/2015  13.8\n",
              "4         1  Afghanistan      F  ...  ... if she burns the food  01/01/2015  13.8\n",
              "\n",
              "[5 rows x 8 columns]"
            ]
          },
          "metadata": {
            "tags": []
          },
          "execution_count": 291
        }
      ]
    },
    {
      "cell_type": "code",
      "metadata": {
        "colab": {
          "base_uri": "https://localhost:8080/"
        },
        "id": "P5rwRojBizab",
        "outputId": "d57b39eb-2f07-4b13-fa5b-245e209b7347"
      },
      "source": [
        "violence_data.info()"
      ],
      "execution_count": 292,
      "outputs": [
        {
          "output_type": "stream",
          "text": [
            "<class 'pandas.core.frame.DataFrame'>\n",
            "RangeIndex: 12600 entries, 0 to 12599\n",
            "Data columns (total 8 columns):\n",
            " #   Column                 Non-Null Count  Dtype  \n",
            "---  ------                 --------------  -----  \n",
            " 0   RecordID               12600 non-null  int64  \n",
            " 1   Country                12600 non-null  object \n",
            " 2   Gender                 12600 non-null  object \n",
            " 3   Demographics Question  12600 non-null  object \n",
            " 4   Demographics Response  12600 non-null  object \n",
            " 5   Question               12600 non-null  object \n",
            " 6   Survey Year            12600 non-null  object \n",
            " 7   Value                  11187 non-null  float64\n",
            "dtypes: float64(1), int64(1), object(6)\n",
            "memory usage: 787.6+ KB\n"
          ],
          "name": "stdout"
        }
      ]
    },
    {
      "cell_type": "code",
      "metadata": {
        "colab": {
          "base_uri": "https://localhost:8080/"
        },
        "id": "x7TizrDCjY2S",
        "outputId": "c1b8fb1f-328d-4631-f6c5-e0ab5f141285"
      },
      "source": [
        "violence_data.shape"
      ],
      "execution_count": 293,
      "outputs": [
        {
          "output_type": "execute_result",
          "data": {
            "text/plain": [
              "(12600, 8)"
            ]
          },
          "metadata": {
            "tags": []
          },
          "execution_count": 293
        }
      ]
    },
    {
      "cell_type": "code",
      "metadata": {
        "colab": {
          "base_uri": "https://localhost:8080/"
        },
        "id": "xlw2yJqMlLRq",
        "outputId": "ae324b6d-0ce0-4d5e-f18e-e743fbafd375"
      },
      "source": [
        "violence_data['Country'].value_counts()"
      ],
      "execution_count": 294,
      "outputs": [
        {
          "output_type": "execute_result",
          "data": {
            "text/plain": [
              "Kenya                        180\n",
              "Madagascar                   180\n",
              "Rwanda                       180\n",
              "Togo                         180\n",
              "Benin                        180\n",
              "                            ... \n",
              "Congo Democratic Republic    180\n",
              "Lesotho                      180\n",
              "Liberia                      180\n",
              "South Africa                 180\n",
              "Ghana                        180\n",
              "Name: Country, Length: 70, dtype: int64"
            ]
          },
          "metadata": {
            "tags": []
          },
          "execution_count": 294
        }
      ]
    },
    {
      "cell_type": "code",
      "metadata": {
        "colab": {
          "base_uri": "https://localhost:8080/"
        },
        "id": "01iVlfsjl1_y",
        "outputId": "cbd384f1-9084-45b6-d184-3089950e1a35"
      },
      "source": [
        "violence_data['Demographics Response'].value_counts()"
      ],
      "execution_count": 295,
      "outputs": [
        {
          "output_type": "execute_result",
          "data": {
            "text/plain": [
              "25-34                           840\n",
              "Secondary                       840\n",
              "Married or living together      840\n",
              "Widowed, divorced, separated    840\n",
              "Never married                   840\n",
              "15-24                           840\n",
              "Urban                           840\n",
              "Rural                           840\n",
              "35-49                           840\n",
              "No education                    840\n",
              "Employed for cash               840\n",
              "Primary                         840\n",
              "Employed for kind               840\n",
              "Higher                          840\n",
              "Unemployed                      840\n",
              "Name: Demographics Response, dtype: int64"
            ]
          },
          "metadata": {
            "tags": []
          },
          "execution_count": 295
        }
      ]
    },
    {
      "cell_type": "markdown",
      "metadata": {
        "id": "C1gUZYjv3PXG"
      },
      "source": [
        "removing all rows with NaN value of `Value` column as they are of no use to us"
      ]
    },
    {
      "cell_type": "code",
      "metadata": {
        "id": "7NzR_ioqoRat"
      },
      "source": [
        "new_df = violence_data.drop(['Survey Year'], axis=1)\r\n",
        "new_df=new_df.dropna(subset=['Value'])\r\n",
        "new_df=new_df.rename(columns={\"Demographics Question\": \"Demographics_Question\",\"Demographics Response\": \"Demographics_Response\"})"
      ],
      "execution_count": 296,
      "outputs": []
    },
    {
      "cell_type": "code",
      "metadata": {
        "colab": {
          "base_uri": "https://localhost:8080/"
        },
        "id": "AzrN2yvcWCF8",
        "outputId": "a4dbd6a6-8728-4684-f13b-17d43f0dee06"
      },
      "source": [
        "new_df.shape"
      ],
      "execution_count": 297,
      "outputs": [
        {
          "output_type": "execute_result",
          "data": {
            "text/plain": [
              "(11187, 7)"
            ]
          },
          "metadata": {
            "tags": []
          },
          "execution_count": 297
        }
      ]
    },
    {
      "cell_type": "code",
      "metadata": {
        "id": "J_VqsxEdZ6vo",
        "colab": {
          "base_uri": "https://localhost:8080/"
        },
        "outputId": "e54fbe32-5f4c-4139-bd97-282de10e6881"
      },
      "source": [
        "new_df['Demographics_Question'].value_counts()"
      ],
      "execution_count": 298,
      "outputs": [
        {
          "output_type": "execute_result",
          "data": {
            "text/plain": [
              "Education         2942\n",
              "Age               2274\n",
              "Employment        2234\n",
              "Marital status    2221\n",
              "Residence         1516\n",
              "Name: Demographics_Question, dtype: int64"
            ]
          },
          "metadata": {
            "tags": []
          },
          "execution_count": 298
        }
      ]
    },
    {
      "cell_type": "markdown",
      "metadata": {
        "id": "L3zZjvt20rM0"
      },
      "source": [
        "We want to put Education & age as feature columns and populate it with corresponding entries, so let's first filter rows with values of `Education` and `Age` only"
      ]
    },
    {
      "cell_type": "code",
      "metadata": {
        "id": "MGsBUaax0jo_"
      },
      "source": [
        "features = ['Education', 'Age']\r\n",
        "hasFeatures= new_df.Demographics_Question.isin(features)\r\n",
        "subset_df=new_df[hasFeatures]"
      ],
      "execution_count": 299,
      "outputs": []
    },
    {
      "cell_type": "markdown",
      "metadata": {
        "id": "OaJhUA3Mfoqw"
      },
      "source": [
        "Splitting `Demographics_Question` into two columns of features"
      ]
    },
    {
      "cell_type": "code",
      "metadata": {
        "colab": {
          "base_uri": "https://localhost:8080/",
          "height": 419
        },
        "id": "eu_FWBxA9MKj",
        "outputId": "a756d2b0-a54d-4b42-89dc-b498c6efb54a"
      },
      "source": [
        "is_education =  subset_df['Demographics_Question']=='Education'\r\n",
        "hasEdu = subset_df[is_education]\r\n",
        "hasEdu"
      ],
      "execution_count": 300,
      "outputs": [
        {
          "output_type": "execute_result",
          "data": {
            "text/html": [
              "<div>\n",
              "<style scoped>\n",
              "    .dataframe tbody tr th:only-of-type {\n",
              "        vertical-align: middle;\n",
              "    }\n",
              "\n",
              "    .dataframe tbody tr th {\n",
              "        vertical-align: top;\n",
              "    }\n",
              "\n",
              "    .dataframe thead th {\n",
              "        text-align: right;\n",
              "    }\n",
              "</style>\n",
              "<table border=\"1\" class=\"dataframe\">\n",
              "  <thead>\n",
              "    <tr style=\"text-align: right;\">\n",
              "      <th></th>\n",
              "      <th>RecordID</th>\n",
              "      <th>Country</th>\n",
              "      <th>Gender</th>\n",
              "      <th>Demographics_Question</th>\n",
              "      <th>Demographics_Response</th>\n",
              "      <th>Question</th>\n",
              "      <th>Value</th>\n",
              "    </tr>\n",
              "  </thead>\n",
              "  <tbody>\n",
              "    <tr>\n",
              "      <th>1</th>\n",
              "      <td>1</td>\n",
              "      <td>Afghanistan</td>\n",
              "      <td>F</td>\n",
              "      <td>Education</td>\n",
              "      <td>Higher</td>\n",
              "      <td>... if she burns the food</td>\n",
              "      <td>10.1</td>\n",
              "    </tr>\n",
              "    <tr>\n",
              "      <th>2</th>\n",
              "      <td>1</td>\n",
              "      <td>Afghanistan</td>\n",
              "      <td>F</td>\n",
              "      <td>Education</td>\n",
              "      <td>Secondary</td>\n",
              "      <td>... if she burns the food</td>\n",
              "      <td>13.7</td>\n",
              "    </tr>\n",
              "    <tr>\n",
              "      <th>3</th>\n",
              "      <td>1</td>\n",
              "      <td>Afghanistan</td>\n",
              "      <td>F</td>\n",
              "      <td>Education</td>\n",
              "      <td>Primary</td>\n",
              "      <td>... if she burns the food</td>\n",
              "      <td>13.8</td>\n",
              "    </tr>\n",
              "    <tr>\n",
              "      <th>13</th>\n",
              "      <td>1</td>\n",
              "      <td>Afghanistan</td>\n",
              "      <td>F</td>\n",
              "      <td>Education</td>\n",
              "      <td>No education</td>\n",
              "      <td>... if she burns the food</td>\n",
              "      <td>19.1</td>\n",
              "    </tr>\n",
              "    <tr>\n",
              "      <th>16</th>\n",
              "      <td>1</td>\n",
              "      <td>Afghanistan</td>\n",
              "      <td>M</td>\n",
              "      <td>Education</td>\n",
              "      <td>Higher</td>\n",
              "      <td>... if she burns the food</td>\n",
              "      <td>4.5</td>\n",
              "    </tr>\n",
              "    <tr>\n",
              "      <th>...</th>\n",
              "      <td>...</td>\n",
              "      <td>...</td>\n",
              "      <td>...</td>\n",
              "      <td>...</td>\n",
              "      <td>...</td>\n",
              "      <td>...</td>\n",
              "      <td>...</td>\n",
              "    </tr>\n",
              "    <tr>\n",
              "      <th>12547</th>\n",
              "      <td>280</td>\n",
              "      <td>Zimbabwe</td>\n",
              "      <td>M</td>\n",
              "      <td>Education</td>\n",
              "      <td>Secondary</td>\n",
              "      <td>... if she neglects the children</td>\n",
              "      <td>18.0</td>\n",
              "    </tr>\n",
              "    <tr>\n",
              "      <th>12548</th>\n",
              "      <td>350</td>\n",
              "      <td>Zimbabwe</td>\n",
              "      <td>M</td>\n",
              "      <td>Education</td>\n",
              "      <td>Higher</td>\n",
              "      <td>... if she refuses to have sex with him</td>\n",
              "      <td>2.9</td>\n",
              "    </tr>\n",
              "    <tr>\n",
              "      <th>12549</th>\n",
              "      <td>350</td>\n",
              "      <td>Zimbabwe</td>\n",
              "      <td>M</td>\n",
              "      <td>Education</td>\n",
              "      <td>No education</td>\n",
              "      <td>... if she refuses to have sex with him</td>\n",
              "      <td>16.2</td>\n",
              "    </tr>\n",
              "    <tr>\n",
              "      <th>12550</th>\n",
              "      <td>350</td>\n",
              "      <td>Zimbabwe</td>\n",
              "      <td>M</td>\n",
              "      <td>Education</td>\n",
              "      <td>Primary</td>\n",
              "      <td>... if she refuses to have sex with him</td>\n",
              "      <td>8.6</td>\n",
              "    </tr>\n",
              "    <tr>\n",
              "      <th>12551</th>\n",
              "      <td>350</td>\n",
              "      <td>Zimbabwe</td>\n",
              "      <td>M</td>\n",
              "      <td>Education</td>\n",
              "      <td>Secondary</td>\n",
              "      <td>... if she refuses to have sex with him</td>\n",
              "      <td>5.5</td>\n",
              "    </tr>\n",
              "  </tbody>\n",
              "</table>\n",
              "<p>2942 rows × 7 columns</p>\n",
              "</div>"
            ],
            "text/plain": [
              "       RecordID      Country  ...                                 Question Value\n",
              "1             1  Afghanistan  ...                ... if she burns the food  10.1\n",
              "2             1  Afghanistan  ...                ... if she burns the food  13.7\n",
              "3             1  Afghanistan  ...                ... if she burns the food  13.8\n",
              "13            1  Afghanistan  ...                ... if she burns the food  19.1\n",
              "16            1  Afghanistan  ...                ... if she burns the food   4.5\n",
              "...         ...          ...  ...                                      ...   ...\n",
              "12547       280     Zimbabwe  ...         ... if she neglects the children  18.0\n",
              "12548       350     Zimbabwe  ...  ... if she refuses to have sex with him   2.9\n",
              "12549       350     Zimbabwe  ...  ... if she refuses to have sex with him  16.2\n",
              "12550       350     Zimbabwe  ...  ... if she refuses to have sex with him   8.6\n",
              "12551       350     Zimbabwe  ...  ... if she refuses to have sex with him   5.5\n",
              "\n",
              "[2942 rows x 7 columns]"
            ]
          },
          "metadata": {
            "tags": []
          },
          "execution_count": 300
        }
      ]
    },
    {
      "cell_type": "code",
      "metadata": {
        "colab": {
          "base_uri": "https://localhost:8080/"
        },
        "id": "5UJOUpwa7Kk5",
        "outputId": "9e6fcba7-5dfb-4581-fea2-7f3b6178c02d"
      },
      "source": [
        "hasEdu['Value'] = hasEdu['Value'].div(100)"
      ],
      "execution_count": 301,
      "outputs": [
        {
          "output_type": "stream",
          "text": [
            "/usr/local/lib/python3.6/dist-packages/ipykernel_launcher.py:1: SettingWithCopyWarning:\n",
            "\n",
            "\n",
            "A value is trying to be set on a copy of a slice from a DataFrame.\n",
            "Try using .loc[row_indexer,col_indexer] = value instead\n",
            "\n",
            "See the caveats in the documentation: https://pandas.pydata.org/pandas-docs/stable/user_guide/indexing.html#returning-a-view-versus-a-copy\n",
            "\n"
          ],
          "name": "stderr"
        }
      ]
    },
    {
      "cell_type": "code",
      "metadata": {
        "id": "T2fAviuxBiUO",
        "colab": {
          "base_uri": "https://localhost:8080/",
          "height": 542
        },
        "outputId": "ee1c7557-1aec-4420-fac3-81cfd021d57d"
      },
      "source": [
        "df_edu1 = hasEdu.query(\"Demographics_Response =='No education'\")\r\n",
        "fig4 = px.histogram(df_edu1, x=\"Value\",title=\"Distribution of people with No Education who agree with justifying gender violence\")\r\n",
        "#fig1.update_xaxes(categoryorder='category ascending')\r\n",
        "fig4.show()"
      ],
      "execution_count": 302,
      "outputs": [
        {
          "output_type": "display_data",
          "data": {
            "text/html": [
              "<html>\n",
              "<head><meta charset=\"utf-8\" /></head>\n",
              "<body>\n",
              "    <div>\n",
              "            <script src=\"https://cdnjs.cloudflare.com/ajax/libs/mathjax/2.7.5/MathJax.js?config=TeX-AMS-MML_SVG\"></script><script type=\"text/javascript\">if (window.MathJax) {MathJax.Hub.Config({SVG: {font: \"STIX-Web\"}});}</script>\n",
              "                <script type=\"text/javascript\">window.PlotlyConfig = {MathJaxConfig: 'local'};</script>\n",
              "        <script src=\"https://cdn.plot.ly/plotly-latest.min.js\"></script>    \n",
              "            <div id=\"3a8e580d-29fd-4980-b506-c10cd28ca5cb\" class=\"plotly-graph-div\" style=\"height:525px; width:100%;\"></div>\n",
              "            <script type=\"text/javascript\">\n",
              "                \n",
              "                    window.PLOTLYENV=window.PLOTLYENV || {};\n",
              "                    \n",
              "                if (document.getElementById(\"3a8e580d-29fd-4980-b506-c10cd28ca5cb\")) {\n",
              "                    Plotly.newPlot(\n",
              "                        '3a8e580d-29fd-4980-b506-c10cd28ca5cb',\n",
              "                        [{\"alignmentgroup\": \"True\", \"bingroup\": \"x\", \"hoverlabel\": {\"namelength\": 0}, \"hovertemplate\": \"Value=%{x}<br>count=%{y}\", \"legendgroup\": \"\", \"marker\": {\"color\": \"#636efa\"}, \"name\": \"\", \"offsetgroup\": \"\", \"orientation\": \"v\", \"showlegend\": false, \"type\": \"histogram\", \"x\": [0.191, 0.106, 0.81, 0.602, 0.684, 0.489, 0.342, 0.774, 0.502, 0.66, 0.297, 0.23199999999999998, 0.057999999999999996, 0.0, 0.263, 0.11699999999999999, 0.149, 0.21100000000000002, 0.063, 0.266, 0.153, 0.254, 0.223, 0.138, 0.17300000000000001, 0.10800000000000001, 0.345, 0.239, 0.21, 0.223, 0.19899999999999998, 0.267, 0.159, 0.134, 0.183, 0.11199999999999999, 0.33, 0.743, 0.552, 0.685, 0.647, 0.374, 0.068, 0.33, 0.244, 0.175, 0.16899999999999998, 0.102, 0.165, 0.107, 0.373, 0.259, 0.265, 0.272, 0.165, 0.21100000000000002, 0.14, 0.11599999999999999, 0.135, 0.111, 0.073, 0.23399999999999999, 0.09300000000000001, 0.12, 0.159, 0.046, 0.11199999999999999, 0.076, 0.475, 0.34700000000000003, 0.344, 0.33399999999999996, 0.22699999999999998, 0.377, 0.225, 0.20600000000000002, 0.222, 0.136, 0.253, 0.055999999999999994, 0.659, 0.348, 0.436, 0.551, 0.479, 0.358, 0.107, 0.193, 0.263, 0.132, 0.17600000000000002, 0.006999999999999999, 0.5760000000000001, 0.315, 0.38, 0.503, 0.201, 0.355, 0.161, 0.203, 0.25, 0.027000000000000003, 0.209, 0.095, 0.496, 0.314, 0.316, 0.359, 0.256, 0.373, 0.217, 0.253, 0.261, 0.13699999999999998, 0.45399999999999996, 0.247, 0.7090000000000001, 0.47600000000000003, 0.563, 0.5670000000000001, 0.415, 0.502, 0.24600000000000002, 0.28600000000000003, 0.34600000000000003, 0.24600000000000002, 0.018000000000000002, 0.027999999999999997, 0.127, 0.036000000000000004, 0.057999999999999996, 0.098, 0.028999999999999998, 0.132, 0.023, 0.032, 0.094, 0.042, 0.153, 0.049, 0.397, 0.18100000000000002, 0.29100000000000004, 0.29600000000000004, 0.22699999999999998, 0.187, 0.067, 0.10099999999999999, 0.066, 0.109, 0.595, 0.41200000000000003, 0.442, 0.35100000000000003, 0.32299999999999995, 0.188, 0.245, 0.09300000000000001, 0.24100000000000002, 0.156, 0.754, 0.5870000000000001, 0.49700000000000005, 0.502, 0.507, 0.639, 0.42, 0.32899999999999996, 0.425, 0.308, 0.187, 0.133, 0.513, 0.389, 0.32, 0.363, 0.28300000000000003, 0.447, 0.304, 0.28, 0.302, 0.159, 0.019, 0.031, 0.039, 0.033, 0.019, 0.025, 0.021, 0.10400000000000001, 0.03, 0.05, 0.06, 0.009000000000000001, 0.131, 0.531, 0.23399999999999999, 0.418, 0.386, 0.33399999999999996, 0.33799999999999997, 0.775, 0.551, 0.615, 0.552, 0.583, 0.053, 0.040999999999999995, 0.301, 0.239, 0.11800000000000001, 0.122, 0.076, 0.28, 0.21100000000000002, 0.115, 0.122, 0.061, 0.493, 0.16699999999999998, 0.7190000000000001, 0.509, 0.522, 0.545, 0.44, 0.36, 0.215, 0.22399999999999998, 0.259, 0.174, 0.159, 0.099, 0.5870000000000001, 0.371, 0.35600000000000004, 0.502, 0.23199999999999998, 0.374, 0.213, 0.163, 0.263, 0.157, 0.134, 0.047, 0.6779999999999999, 0.298, 0.52, 0.42100000000000004, 0.547, 0.35200000000000004, 0.12, 0.24600000000000002, 0.19899999999999998, 0.23399999999999999, 0.154, 0.04, 0.47100000000000003, 0.303, 0.308, 0.366, 0.29, 0.235, 0.09, 0.155, 0.157, 0.128, 0.083, 0.009000000000000001, 0.183, 0.057, 0.062, 0.11900000000000001, 0.044000000000000004, 0.087, 0.021, 0.024, 0.051, 0.01, 0.263, 0.19699999999999998, 0.7090000000000001, 0.53, 0.583, 0.5579999999999999, 0.519, 0.645, 0.39799999999999996, 0.473, 0.502, 0.34, 0.055999999999999994, 0.037000000000000005, 0.154, 0.076, 0.10400000000000001, 0.10400000000000001, 0.038, 0.34, 0.16399999999999998, 0.08800000000000001, 0.248, 0.049, 0.047, 0.017, 0.225, 0.044000000000000004, 0.156, 0.131, 0.098, 0.107, 0.013000000000000001, 0.076, 0.044000000000000004, 0.032, 0.10800000000000001, 0.037000000000000005, 0.23600000000000002, 0.114, 0.114, 0.182, 0.068, 0.146, 0.043, 0.046, 0.122, 0.042, 0.256, 0.141, 0.516, 0.36200000000000004, 0.317, 0.37200000000000005, 0.17600000000000002, 0.39299999999999996, 0.273, 0.217, 0.249, 0.131, 0.038, 0.026000000000000002, 0.266, 0.092, 0.198, 0.19899999999999998, 0.084, 0.19699999999999998, 0.09300000000000001, 0.146, 0.139, 0.062, 0.281, 0.131, 0.078, 0.14800000000000002, 0.187, 0.363, 0.34, 0.187, 0.19399999999999998, 0.198, 0.591, 0.369, 0.16, 0.38299999999999995, 0.494, 0.36, 0.604, 0.45399999999999996, 0.155, 0.48200000000000004, 0.511, 0.348, 0.41700000000000004, 0.326, 0.099, 0.138, 0.29600000000000004, 0.15, 0.525, 0.382, 0.08900000000000001, 0.28800000000000003, 0.359, 0.19699999999999998, 0.45799999999999996, 0.35, 0.086, 0.307, 0.345, 0.134, 0.28, 0.212, 0.019, 0.17800000000000002, 0.187, 0.087, 0.29, 0.064, 0.073, 0.179, 0.251, 0.106, 0.305, 0.098, 0.081, 0.213, 0.237, 0.10400000000000001, 0.182, 0.076, 0.061, 0.075, 0.09, 0.107, 0.096, 0.043, 0.022000000000000002, 0.035, 0.039, 0.05, 0.19399999999999998, 0.084, 0.075, 0.133, 0.109, 0.025, 0.08199999999999999, 0.017, 0.82, 0.71, 0.247, 0.578, 0.5479999999999999, 0.667, 0.504, 0.41600000000000004, 0.13, 0.23600000000000002, 0.263, 0.278, 0.785, 0.6609999999999999, 0.364, 0.675, 0.653, 0.589, 0.142, 0.079, 0.025, 0.087, 0.034, 0.052000000000000005, 0.262, 0.142, 0.106, 0.10099999999999999, 0.10800000000000001, 0.10099999999999999, 0.521, 0.14400000000000002, 0.16, 0.263, 0.418, 0.142, 0.426, 0.17800000000000002, 0.068, 0.14800000000000002, 0.29600000000000004, 0.095, 0.435, 0.23199999999999998, 0.203, 0.233, 0.29600000000000004, 0.174, 0.21600000000000003, 0.11, 0.07400000000000001, 0.11900000000000001, 0.149, 0.011000000000000001, 0.298, 0.126, 0.055999999999999994, 0.151, 0.251, 0.046, 0.282, 0.18100000000000002, 0.039, 0.142, 0.249, 0.07400000000000001, 0.226, 0.098, 0.102, 0.12300000000000001, 0.16699999999999998, 0.064, 0.601, 0.514, 0.36, 0.441, 0.434, 0.514, 0.248, 0.18100000000000002, 0.08199999999999999, 0.147, 0.136, 0.131, 0.41600000000000004, 0.263, 0.20199999999999999, 0.327, 0.28, 0.278, 0.27899999999999997, 0.163, 0.11599999999999999, 0.151, 0.138, 0.183, 0.55, 0.445, 0.271, 0.442, 0.38299999999999995, 0.387, 0.5429999999999999, 0.324, 0.055, 0.40399999999999997, 0.28, 0.18600000000000003, 0.068, 0.021, 0.019, 0.023, 0.040999999999999995, 0.016, 0.175, 0.027000000000000003, 0.018000000000000002, 0.098, 0.145, 0.026000000000000002, 0.461, 0.249, 0.11, 0.25, 0.313, 0.314, 0.21100000000000002, 0.075, 0.012, 0.086, 0.149, 0.08, 0.275, 0.073, 0.105, 0.184, 0.145, 0.12, 0.214, 0.043, 0.084, 0.135, 0.184, 0.077, 0.59, 0.486, 0.309, 0.469, 0.46799999999999997, 0.507, 0.332, 0.22899999999999998, 0.075, 0.183, 0.209, 0.157, 0.693, 0.55, 0.22, 0.594, 0.593, 0.32, 0.39, 0.27899999999999997, 0.05, 0.237, 0.26899999999999996, 0.11800000000000001, 0.068, 0.028999999999999998, 0.016, 0.022000000000000002, 0.027999999999999997, 0.022000000000000002, 0.106, 0.063, 0.038, 0.045, 0.08199999999999999, 0.011000000000000001, 0.66, 0.578, 0.41700000000000004, 0.616, 0.583, 0.41700000000000004, 0.65, 0.511, 0.293, 0.513, 0.5539999999999999, 0.419, 0.389, 0.243, 0.08800000000000001, 0.20600000000000002, 0.309, 0.13699999999999998, 0.7709999999999999, 0.64, 0.371, 0.696, 0.665, 0.42, 0.47200000000000003, 0.32, 0.22899999999999998, 0.396, 0.40700000000000003, 0.245, 0.384, 0.264, 0.177, 0.248, 0.272, 0.165, 0.285, 0.14, 0.10800000000000001, 0.139, 0.218, 0.098, 0.37, 0.18899999999999997, 0.067, 0.16699999999999998, 0.253, 0.109, 0.613, 0.447, 0.327, 0.578, 0.47700000000000004, 0.341, 0.552, 0.336, 0.183, 0.348, 0.436, 0.24600000000000002, 0.365, 0.151, 0.055999999999999994, 0.23800000000000002, 0.28300000000000003, 0.115, 0.5760000000000001, 0.273, 0.14300000000000002, 0.447, 0.376, 0.42, 0.541, 0.402, 0.32299999999999995, 0.33799999999999997, 0.37200000000000005, 0.392, 0.299, 0.2, 0.071, 0.14, 0.193, 0.109, 0.552, 0.264, 0.17, 0.35, 0.33299999999999996, 0.285, 0.45399999999999996, 0.22, 0.094, 0.37799999999999995, 0.305, 0.162], \"xaxis\": \"x\", \"yaxis\": \"y\"}],\n",
              "                        {\"barmode\": \"relative\", \"legend\": {\"tracegroupgap\": 0}, \"template\": {\"data\": {\"bar\": [{\"error_x\": {\"color\": \"#2a3f5f\"}, \"error_y\": {\"color\": \"#2a3f5f\"}, \"marker\": {\"line\": {\"color\": \"#E5ECF6\", \"width\": 0.5}}, \"type\": \"bar\"}], \"barpolar\": [{\"marker\": {\"line\": {\"color\": \"#E5ECF6\", \"width\": 0.5}}, \"type\": \"barpolar\"}], \"carpet\": [{\"aaxis\": {\"endlinecolor\": \"#2a3f5f\", \"gridcolor\": \"white\", \"linecolor\": \"white\", \"minorgridcolor\": \"white\", \"startlinecolor\": \"#2a3f5f\"}, \"baxis\": {\"endlinecolor\": \"#2a3f5f\", \"gridcolor\": \"white\", \"linecolor\": \"white\", \"minorgridcolor\": \"white\", \"startlinecolor\": \"#2a3f5f\"}, \"type\": \"carpet\"}], \"choropleth\": [{\"colorbar\": {\"outlinewidth\": 0, \"ticks\": \"\"}, \"type\": \"choropleth\"}], \"contour\": [{\"colorbar\": {\"outlinewidth\": 0, \"ticks\": \"\"}, \"colorscale\": [[0.0, \"#0d0887\"], [0.1111111111111111, \"#46039f\"], [0.2222222222222222, \"#7201a8\"], [0.3333333333333333, \"#9c179e\"], [0.4444444444444444, \"#bd3786\"], [0.5555555555555556, \"#d8576b\"], [0.6666666666666666, \"#ed7953\"], [0.7777777777777778, \"#fb9f3a\"], [0.8888888888888888, \"#fdca26\"], [1.0, \"#f0f921\"]], \"type\": \"contour\"}], \"contourcarpet\": [{\"colorbar\": {\"outlinewidth\": 0, \"ticks\": \"\"}, \"type\": \"contourcarpet\"}], \"heatmap\": [{\"colorbar\": {\"outlinewidth\": 0, \"ticks\": \"\"}, \"colorscale\": [[0.0, \"#0d0887\"], [0.1111111111111111, \"#46039f\"], [0.2222222222222222, \"#7201a8\"], [0.3333333333333333, \"#9c179e\"], [0.4444444444444444, \"#bd3786\"], [0.5555555555555556, \"#d8576b\"], [0.6666666666666666, \"#ed7953\"], [0.7777777777777778, \"#fb9f3a\"], [0.8888888888888888, \"#fdca26\"], [1.0, \"#f0f921\"]], \"type\": \"heatmap\"}], \"heatmapgl\": [{\"colorbar\": {\"outlinewidth\": 0, \"ticks\": \"\"}, \"colorscale\": [[0.0, \"#0d0887\"], [0.1111111111111111, \"#46039f\"], [0.2222222222222222, \"#7201a8\"], [0.3333333333333333, \"#9c179e\"], [0.4444444444444444, \"#bd3786\"], [0.5555555555555556, \"#d8576b\"], [0.6666666666666666, \"#ed7953\"], [0.7777777777777778, \"#fb9f3a\"], [0.8888888888888888, \"#fdca26\"], [1.0, \"#f0f921\"]], \"type\": \"heatmapgl\"}], \"histogram\": [{\"marker\": {\"colorbar\": {\"outlinewidth\": 0, \"ticks\": \"\"}}, \"type\": \"histogram\"}], \"histogram2d\": [{\"colorbar\": {\"outlinewidth\": 0, \"ticks\": \"\"}, \"colorscale\": [[0.0, \"#0d0887\"], [0.1111111111111111, \"#46039f\"], [0.2222222222222222, \"#7201a8\"], [0.3333333333333333, \"#9c179e\"], [0.4444444444444444, \"#bd3786\"], [0.5555555555555556, \"#d8576b\"], [0.6666666666666666, \"#ed7953\"], [0.7777777777777778, \"#fb9f3a\"], [0.8888888888888888, \"#fdca26\"], [1.0, \"#f0f921\"]], \"type\": \"histogram2d\"}], \"histogram2dcontour\": [{\"colorbar\": {\"outlinewidth\": 0, \"ticks\": \"\"}, \"colorscale\": [[0.0, \"#0d0887\"], [0.1111111111111111, \"#46039f\"], [0.2222222222222222, \"#7201a8\"], [0.3333333333333333, \"#9c179e\"], [0.4444444444444444, \"#bd3786\"], [0.5555555555555556, \"#d8576b\"], [0.6666666666666666, \"#ed7953\"], [0.7777777777777778, \"#fb9f3a\"], [0.8888888888888888, \"#fdca26\"], [1.0, \"#f0f921\"]], \"type\": \"histogram2dcontour\"}], \"mesh3d\": [{\"colorbar\": {\"outlinewidth\": 0, \"ticks\": \"\"}, \"type\": \"mesh3d\"}], \"parcoords\": [{\"line\": {\"colorbar\": {\"outlinewidth\": 0, \"ticks\": \"\"}}, \"type\": \"parcoords\"}], \"pie\": [{\"automargin\": true, \"type\": \"pie\"}], \"scatter\": [{\"marker\": {\"colorbar\": {\"outlinewidth\": 0, \"ticks\": \"\"}}, \"type\": \"scatter\"}], \"scatter3d\": [{\"line\": {\"colorbar\": {\"outlinewidth\": 0, \"ticks\": \"\"}}, \"marker\": {\"colorbar\": {\"outlinewidth\": 0, \"ticks\": \"\"}}, \"type\": \"scatter3d\"}], \"scattercarpet\": [{\"marker\": {\"colorbar\": {\"outlinewidth\": 0, \"ticks\": \"\"}}, \"type\": \"scattercarpet\"}], \"scattergeo\": [{\"marker\": {\"colorbar\": {\"outlinewidth\": 0, \"ticks\": \"\"}}, \"type\": \"scattergeo\"}], \"scattergl\": [{\"marker\": {\"colorbar\": {\"outlinewidth\": 0, \"ticks\": \"\"}}, \"type\": \"scattergl\"}], \"scattermapbox\": [{\"marker\": {\"colorbar\": {\"outlinewidth\": 0, \"ticks\": \"\"}}, \"type\": \"scattermapbox\"}], \"scatterpolar\": [{\"marker\": {\"colorbar\": {\"outlinewidth\": 0, \"ticks\": \"\"}}, \"type\": \"scatterpolar\"}], \"scatterpolargl\": [{\"marker\": {\"colorbar\": {\"outlinewidth\": 0, \"ticks\": \"\"}}, \"type\": \"scatterpolargl\"}], \"scatterternary\": [{\"marker\": {\"colorbar\": {\"outlinewidth\": 0, \"ticks\": \"\"}}, \"type\": \"scatterternary\"}], \"surface\": [{\"colorbar\": {\"outlinewidth\": 0, \"ticks\": \"\"}, \"colorscale\": [[0.0, \"#0d0887\"], [0.1111111111111111, \"#46039f\"], [0.2222222222222222, \"#7201a8\"], [0.3333333333333333, \"#9c179e\"], [0.4444444444444444, \"#bd3786\"], [0.5555555555555556, \"#d8576b\"], [0.6666666666666666, \"#ed7953\"], [0.7777777777777778, \"#fb9f3a\"], [0.8888888888888888, \"#fdca26\"], [1.0, \"#f0f921\"]], \"type\": \"surface\"}], \"table\": [{\"cells\": {\"fill\": {\"color\": \"#EBF0F8\"}, \"line\": {\"color\": \"white\"}}, \"header\": {\"fill\": {\"color\": \"#C8D4E3\"}, \"line\": {\"color\": \"white\"}}, \"type\": \"table\"}]}, \"layout\": {\"annotationdefaults\": {\"arrowcolor\": \"#2a3f5f\", \"arrowhead\": 0, \"arrowwidth\": 1}, \"coloraxis\": {\"colorbar\": {\"outlinewidth\": 0, \"ticks\": \"\"}}, \"colorscale\": {\"diverging\": [[0, \"#8e0152\"], [0.1, \"#c51b7d\"], [0.2, \"#de77ae\"], [0.3, \"#f1b6da\"], [0.4, \"#fde0ef\"], [0.5, \"#f7f7f7\"], [0.6, \"#e6f5d0\"], [0.7, \"#b8e186\"], [0.8, \"#7fbc41\"], [0.9, \"#4d9221\"], [1, \"#276419\"]], \"sequential\": [[0.0, \"#0d0887\"], [0.1111111111111111, \"#46039f\"], [0.2222222222222222, \"#7201a8\"], [0.3333333333333333, \"#9c179e\"], [0.4444444444444444, \"#bd3786\"], [0.5555555555555556, \"#d8576b\"], [0.6666666666666666, \"#ed7953\"], [0.7777777777777778, \"#fb9f3a\"], [0.8888888888888888, \"#fdca26\"], [1.0, \"#f0f921\"]], \"sequentialminus\": [[0.0, \"#0d0887\"], [0.1111111111111111, \"#46039f\"], [0.2222222222222222, \"#7201a8\"], [0.3333333333333333, \"#9c179e\"], [0.4444444444444444, \"#bd3786\"], [0.5555555555555556, \"#d8576b\"], [0.6666666666666666, \"#ed7953\"], [0.7777777777777778, \"#fb9f3a\"], [0.8888888888888888, \"#fdca26\"], [1.0, \"#f0f921\"]]}, \"colorway\": [\"#636efa\", \"#EF553B\", \"#00cc96\", \"#ab63fa\", \"#FFA15A\", \"#19d3f3\", \"#FF6692\", \"#B6E880\", \"#FF97FF\", \"#FECB52\"], \"font\": {\"color\": \"#2a3f5f\"}, \"geo\": {\"bgcolor\": \"white\", \"lakecolor\": \"white\", \"landcolor\": \"#E5ECF6\", \"showlakes\": true, \"showland\": true, \"subunitcolor\": \"white\"}, \"hoverlabel\": {\"align\": \"left\"}, \"hovermode\": \"closest\", \"mapbox\": {\"style\": \"light\"}, \"paper_bgcolor\": \"white\", \"plot_bgcolor\": \"#E5ECF6\", \"polar\": {\"angularaxis\": {\"gridcolor\": \"white\", \"linecolor\": \"white\", \"ticks\": \"\"}, \"bgcolor\": \"#E5ECF6\", \"radialaxis\": {\"gridcolor\": \"white\", \"linecolor\": \"white\", \"ticks\": \"\"}}, \"scene\": {\"xaxis\": {\"backgroundcolor\": \"#E5ECF6\", \"gridcolor\": \"white\", \"gridwidth\": 2, \"linecolor\": \"white\", \"showbackground\": true, \"ticks\": \"\", \"zerolinecolor\": \"white\"}, \"yaxis\": {\"backgroundcolor\": \"#E5ECF6\", \"gridcolor\": \"white\", \"gridwidth\": 2, \"linecolor\": \"white\", \"showbackground\": true, \"ticks\": \"\", \"zerolinecolor\": \"white\"}, \"zaxis\": {\"backgroundcolor\": \"#E5ECF6\", \"gridcolor\": \"white\", \"gridwidth\": 2, \"linecolor\": \"white\", \"showbackground\": true, \"ticks\": \"\", \"zerolinecolor\": \"white\"}}, \"shapedefaults\": {\"line\": {\"color\": \"#2a3f5f\"}}, \"ternary\": {\"aaxis\": {\"gridcolor\": \"white\", \"linecolor\": \"white\", \"ticks\": \"\"}, \"baxis\": {\"gridcolor\": \"white\", \"linecolor\": \"white\", \"ticks\": \"\"}, \"bgcolor\": \"#E5ECF6\", \"caxis\": {\"gridcolor\": \"white\", \"linecolor\": \"white\", \"ticks\": \"\"}}, \"title\": {\"x\": 0.05}, \"xaxis\": {\"automargin\": true, \"gridcolor\": \"white\", \"linecolor\": \"white\", \"ticks\": \"\", \"title\": {\"standoff\": 15}, \"zerolinecolor\": \"white\", \"zerolinewidth\": 2}, \"yaxis\": {\"automargin\": true, \"gridcolor\": \"white\", \"linecolor\": \"white\", \"ticks\": \"\", \"title\": {\"standoff\": 15}, \"zerolinecolor\": \"white\", \"zerolinewidth\": 2}}}, \"title\": {\"text\": \"Distribution of people with No Education who agree with justifying gender violence\"}, \"xaxis\": {\"anchor\": \"y\", \"domain\": [0.0, 1.0], \"title\": {\"text\": \"Value\"}}, \"yaxis\": {\"anchor\": \"x\", \"domain\": [0.0, 1.0], \"title\": {\"text\": \"count\"}}},\n",
              "                        {\"responsive\": true}\n",
              "                    ).then(function(){\n",
              "                            \n",
              "var gd = document.getElementById('3a8e580d-29fd-4980-b506-c10cd28ca5cb');\n",
              "var x = new MutationObserver(function (mutations, observer) {{\n",
              "        var display = window.getComputedStyle(gd).display;\n",
              "        if (!display || display === 'none') {{\n",
              "            console.log([gd, 'removed!']);\n",
              "            Plotly.purge(gd);\n",
              "            observer.disconnect();\n",
              "        }}\n",
              "}});\n",
              "\n",
              "// Listen for the removal of the full notebook cells\n",
              "var notebookContainer = gd.closest('#notebook-container');\n",
              "if (notebookContainer) {{\n",
              "    x.observe(notebookContainer, {childList: true});\n",
              "}}\n",
              "\n",
              "// Listen for the clearing of the current output cell\n",
              "var outputEl = gd.closest('.output');\n",
              "if (outputEl) {{\n",
              "    x.observe(outputEl, {childList: true});\n",
              "}}\n",
              "\n",
              "                        })\n",
              "                };\n",
              "                \n",
              "            </script>\n",
              "        </div>\n",
              "</body>\n",
              "</html>"
            ]
          },
          "metadata": {
            "tags": []
          }
        }
      ]
    },
    {
      "cell_type": "code",
      "metadata": {
        "id": "ntAD3TxmBt3e",
        "colab": {
          "base_uri": "https://localhost:8080/",
          "height": 542
        },
        "outputId": "65e1d827-d402-4d13-cc3e-cb3e047e931f"
      },
      "source": [
        "df_edu2 = hasEdu.query(\"Demographics_Response =='Primary'\")\r\n",
        "fig5 = px.histogram(df_edu2, x=\"Value\",title=\"Distribution of people with Primary who agree with justifying gender violence\")\r\n",
        "#fig1.update_xaxes(categoryorder='category ascending')\r\n",
        "fig5.show()"
      ],
      "execution_count": 303,
      "outputs": [
        {
          "output_type": "display_data",
          "data": {
            "text/html": [
              "<html>\n",
              "<head><meta charset=\"utf-8\" /></head>\n",
              "<body>\n",
              "    <div>\n",
              "            <script src=\"https://cdnjs.cloudflare.com/ajax/libs/mathjax/2.7.5/MathJax.js?config=TeX-AMS-MML_SVG\"></script><script type=\"text/javascript\">if (window.MathJax) {MathJax.Hub.Config({SVG: {font: \"STIX-Web\"}});}</script>\n",
              "                <script type=\"text/javascript\">window.PlotlyConfig = {MathJaxConfig: 'local'};</script>\n",
              "        <script src=\"https://cdn.plot.ly/plotly-latest.min.js\"></script>    \n",
              "            <div id=\"54ad40cc-2f22-4df1-b945-22325605691c\" class=\"plotly-graph-div\" style=\"height:525px; width:100%;\"></div>\n",
              "            <script type=\"text/javascript\">\n",
              "                \n",
              "                    window.PLOTLYENV=window.PLOTLYENV || {};\n",
              "                    \n",
              "                if (document.getElementById(\"54ad40cc-2f22-4df1-b945-22325605691c\")) {\n",
              "                    Plotly.newPlot(\n",
              "                        '54ad40cc-2f22-4df1-b945-22325605691c',\n",
              "                        [{\"alignmentgroup\": \"True\", \"bingroup\": \"x\", \"hoverlabel\": {\"namelength\": 0}, \"hovertemplate\": \"Value=%{x}<br>count=%{y}\", \"legendgroup\": \"\", \"marker\": {\"color\": \"#636efa\"}, \"name\": \"\", \"offsetgroup\": \"\", \"orientation\": \"v\", \"showlegend\": false, \"type\": \"histogram\", \"x\": [0.138, 0.063, 0.7979999999999999, 0.569, 0.6409999999999999, 0.506, 0.359, 0.6809999999999999, 0.41, 0.5589999999999999, 0.223, 0.174, 0.013000000000000001, 0.008, 0.111, 0.032, 0.069, 0.086, 0.015, 0.146, 0.059000000000000004, 0.09, 0.096, 0.031, 0.134, 0.081, 0.309, 0.191, 0.185, 0.201, 0.142, 0.262, 0.149, 0.11199999999999999, 0.171, 0.076, 0.001, 0.01, 0.12, 0.053, 0.054000000000000006, 0.094, 0.015, 0.303, 0.22, 0.136, 0.17800000000000002, 0.024, 0.255, 0.631, 0.436, 0.583, 0.47600000000000003, 0.26, 0.054000000000000006, 0.317, 0.223, 0.17300000000000001, 0.172, 0.08900000000000001, 0.13, 0.063, 0.294, 0.172, 0.17800000000000002, 0.196, 0.106, 0.14800000000000002, 0.094, 0.09300000000000001, 0.084, 0.06, 0.044000000000000004, 0.203, 0.068, 0.08199999999999999, 0.152, 0.032, 0.081, 0.083, 0.381, 0.26, 0.24600000000000002, 0.265, 0.152, 0.335, 0.217, 0.16899999999999998, 0.18899999999999997, 0.081, 0.239, 0.059000000000000004, 0.639, 0.32299999999999995, 0.409, 0.537, 0.44299999999999995, 0.386, 0.127, 0.18899999999999997, 0.289, 0.14800000000000002, 0.14400000000000002, 0.022000000000000002, 0.56, 0.27699999999999997, 0.366, 0.494, 0.155, 0.322, 0.146, 0.156, 0.22899999999999998, 0.055999999999999994, 0.159, 0.11800000000000001, 0.516, 0.244, 0.32899999999999996, 0.419, 0.172, 0.43700000000000006, 0.231, 0.275, 0.322, 0.107, 0.562, 0.319, 0.795, 0.551, 0.665, 0.6629999999999999, 0.43200000000000005, 0.53, 0.228, 0.307, 0.405, 0.25, 0.017, 0.019, 0.057, 0.018000000000000002, 0.018000000000000002, 0.044000000000000004, 0.013999999999999999, 0.075, 0.023, 0.03, 0.054000000000000006, 0.021, 0.13699999999999998, 0.038, 0.418, 0.153, 0.325, 0.331, 0.22699999999999998, 0.18100000000000002, 0.071, 0.068, 0.081, 0.079, 0.612, 0.441, 0.47600000000000003, 0.314, 0.446, 0.225, 0.32299999999999995, 0.18, 0.285, 0.172, 0.762, 0.597, 0.518, 0.516, 0.493, 0.649, 0.46299999999999997, 0.371, 0.413, 0.297, 0.179, 0.145, 0.501, 0.34700000000000003, 0.26899999999999996, 0.326, 0.182, 0.45899999999999996, 0.292, 0.243, 0.315, 0.14400000000000002, 0.013000000000000001, 0.015, 0.044000000000000004, 0.012, 0.015, 0.033, 0.006, 0.066, 0.017, 0.039, 0.039, 0.009000000000000001, 0.109, 0.47200000000000003, 0.204, 0.36700000000000005, 0.348, 0.28600000000000003, 0.31, 0.7390000000000001, 0.433, 0.528, 0.547, 0.473, 0.052000000000000005, 0.068, 0.314, 0.239, 0.139, 0.149, 0.057999999999999996, 0.409, 0.306, 0.21, 0.21, 0.063, 0.39399999999999996, 0.12300000000000001, 0.637, 0.423, 0.423, 0.47700000000000004, 0.32899999999999996, 0.29, 0.174, 0.177, 0.193, 0.133, 0.166, 0.069, 0.59, 0.35, 0.326, 0.462, 0.163, 0.401, 0.207, 0.177, 0.28300000000000003, 0.073, 0.13699999999999998, 0.102, 0.6679999999999999, 0.298, 0.49700000000000005, 0.409, 0.5329999999999999, 0.419, 0.166, 0.27899999999999997, 0.23, 0.264, 0.09699999999999999, 0.040999999999999995, 0.34700000000000003, 0.2, 0.22399999999999998, 0.261, 0.14, 0.184, 0.096, 0.08800000000000001, 0.128, 0.067, 0.057, 0.018000000000000002, 0.14300000000000002, 0.045, 0.05, 0.099, 0.034, 0.081, 0.027999999999999997, 0.027000000000000003, 0.049, 0.018000000000000002, 0.233, 0.22, 0.653, 0.495, 0.517, 0.49700000000000005, 0.457, 0.5479999999999999, 0.298, 0.359, 0.43, 0.275, 0.064, 0.07200000000000001, 0.262, 0.113, 0.11599999999999999, 0.183, 0.07200000000000001, 0.268, 0.13, 0.12300000000000001, 0.19, 0.055999999999999994, 0.062, 0.026000000000000002, 0.22399999999999998, 0.037000000000000005, 0.165, 0.139, 0.069, 0.153, 0.028999999999999998, 0.10099999999999999, 0.08199999999999999, 0.044000000000000004, 0.065, 0.043, 0.175, 0.07, 0.065, 0.132, 0.034, 0.12300000000000001, 0.051, 0.039, 0.08900000000000001, 0.034, 0.21100000000000002, 0.11699999999999999, 0.484, 0.331, 0.289, 0.35100000000000003, 0.153, 0.358, 0.23800000000000002, 0.185, 0.22399999999999998, 0.109, 0.039, 0.013999999999999999, 0.355, 0.071, 0.26899999999999996, 0.273, 0.109, 0.204, 0.043, 0.142, 0.136, 0.042, 0.262, 0.121, 0.043, 0.14, 0.13, 0.228, 0.094, 0.027000000000000003, 0.152, 0.09, 0.49, 0.261, 0.08800000000000001, 0.268, 0.39, 0.19, 0.405, 0.24, 0.052000000000000005, 0.221, 0.303, 0.11699999999999999, 0.534, 0.19899999999999998, 0.039, 0.314, 0.414, 0.039, 0.447, 0.344, 0.1, 0.171, 0.304, 0.156, 0.474, 0.32799999999999996, 0.08199999999999999, 0.209, 0.327, 0.13, 0.478, 0.38799999999999996, 0.084, 0.315, 0.371, 0.11599999999999999, 0.3, 0.23399999999999999, 0.039, 0.162, 0.18100000000000002, 0.053, 0.324, 0.066, 0.078, 0.2, 0.28, 0.099, 0.308, 0.09699999999999999, 0.068, 0.19699999999999998, 0.251, 0.08800000000000001, 0.18100000000000002, 0.077, 0.065, 0.076, 0.099, 0.095, 0.162, 0.069, 0.032, 0.065, 0.08, 0.064, 0.225, 0.076, 0.149, 0.127, 0.165, 0.032, 0.127, 0.051, 0.805, 0.695, 0.253, 0.552, 0.544, 0.654, 0.514, 0.441, 0.107, 0.249, 0.307, 0.278, 0.39799999999999996, 0.235, 0.17300000000000001, 0.18899999999999997, 0.316, 0.185, 0.659, 0.52, 0.195, 0.496, 0.493, 0.406, 0.14300000000000002, 0.064, 0.025, 0.081, 0.048, 0.064, 0.177, 0.09699999999999999, 0.065, 0.085, 0.084, 0.081, 0.547, 0.115, 0.163, 0.256, 0.452, 0.124, 0.48200000000000004, 0.126, 0.098, 0.17800000000000002, 0.387, 0.099, 0.402, 0.19899999999999998, 0.166, 0.204, 0.278, 0.14400000000000002, 0.295, 0.11699999999999999, 0.077, 0.139, 0.196, 0.054000000000000006, 0.32799999999999996, 0.121, 0.040999999999999995, 0.138, 0.268, 0.043, 0.29600000000000004, 0.11699999999999999, 0.018000000000000002, 0.133, 0.22699999999999998, 0.055999999999999994, 0.16699999999999998, 0.06, 0.063, 0.085, 0.124, 0.038, 0.632, 0.528, 0.348, 0.431, 0.41, 0.525, 0.344, 0.258, 0.127, 0.20199999999999999, 0.20199999999999999, 0.179, 0.385, 0.248, 0.157, 0.281, 0.287, 0.191, 0.285, 0.166, 0.09, 0.16399999999999998, 0.158, 0.125, 0.395, 0.292, 0.16699999999999998, 0.284, 0.256, 0.248, 0.41200000000000003, 0.22, 0.054000000000000006, 0.306, 0.203, 0.09300000000000001, 0.061, 0.017, 0.016, 0.02, 0.042, 0.01, 0.165, 0.036000000000000004, 0.024, 0.079, 0.125, 0.019, 0.43799999999999994, 0.218, 0.09699999999999999, 0.237, 0.309, 0.26, 0.184, 0.055999999999999994, 0.017, 0.071, 0.12300000000000001, 0.07, 0.217, 0.08199999999999999, 0.065, 0.115, 0.132, 0.066, 0.263, 0.115, 0.077, 0.153, 0.175, 0.062, 0.395, 0.29600000000000004, 0.191, 0.27699999999999997, 0.298, 0.28300000000000003, 0.276, 0.18899999999999997, 0.065, 0.139, 0.158, 0.11699999999999999, 0.594, 0.43, 0.17600000000000002, 0.503, 0.509, 0.242, 0.341, 0.248, 0.052000000000000005, 0.20800000000000002, 0.20199999999999999, 0.1, 0.099, 0.042, 0.024, 0.048, 0.069, 0.019, 0.11, 0.063, 0.032, 0.055999999999999994, 0.075, 0.025, 0.677, 0.5579999999999999, 0.402, 0.59, 0.568, 0.324, 0.622, 0.456, 0.22699999999999998, 0.445, 0.512, 0.341, 0.426, 0.27399999999999997, 0.068, 0.263, 0.33, 0.16399999999999998, 0.74, 0.601, 0.374, 0.6409999999999999, 0.625, 0.405, 0.515, 0.293, 0.201, 0.418, 0.429, 0.23, 0.275, 0.188, 0.09699999999999999, 0.17, 0.175, 0.081, 0.226, 0.11800000000000001, 0.067, 0.136, 0.14400000000000002, 0.064, 0.17800000000000002, 0.084, 0.011000000000000001, 0.061, 0.12300000000000001, 0.032, 0.568, 0.358, 0.263, 0.496, 0.446, 0.299, 0.544, 0.302, 0.16399999999999998, 0.34299999999999997, 0.428, 0.221, 0.475, 0.287, 0.10099999999999999, 0.27399999999999997, 0.33399999999999996, 0.161, 0.484, 0.184, 0.08199999999999999, 0.35100000000000003, 0.298, 0.302, 0.546, 0.405, 0.295, 0.359, 0.38799999999999996, 0.36700000000000005, 0.38799999999999996, 0.252, 0.10400000000000001, 0.209, 0.24100000000000002, 0.152, 0.489, 0.255, 0.121, 0.312, 0.263, 0.221, 0.401, 0.198, 0.08900000000000001, 0.23199999999999998, 0.23600000000000002, 0.086], \"xaxis\": \"x\", \"yaxis\": \"y\"}],\n",
              "                        {\"barmode\": \"relative\", \"legend\": {\"tracegroupgap\": 0}, \"template\": {\"data\": {\"bar\": [{\"error_x\": {\"color\": \"#2a3f5f\"}, \"error_y\": {\"color\": \"#2a3f5f\"}, \"marker\": {\"line\": {\"color\": \"#E5ECF6\", \"width\": 0.5}}, \"type\": \"bar\"}], \"barpolar\": [{\"marker\": {\"line\": {\"color\": \"#E5ECF6\", \"width\": 0.5}}, \"type\": \"barpolar\"}], \"carpet\": [{\"aaxis\": {\"endlinecolor\": \"#2a3f5f\", \"gridcolor\": \"white\", \"linecolor\": \"white\", \"minorgridcolor\": \"white\", \"startlinecolor\": \"#2a3f5f\"}, \"baxis\": {\"endlinecolor\": \"#2a3f5f\", \"gridcolor\": \"white\", \"linecolor\": \"white\", \"minorgridcolor\": \"white\", \"startlinecolor\": \"#2a3f5f\"}, \"type\": \"carpet\"}], \"choropleth\": [{\"colorbar\": {\"outlinewidth\": 0, \"ticks\": \"\"}, \"type\": \"choropleth\"}], \"contour\": [{\"colorbar\": {\"outlinewidth\": 0, \"ticks\": \"\"}, \"colorscale\": [[0.0, \"#0d0887\"], [0.1111111111111111, \"#46039f\"], [0.2222222222222222, \"#7201a8\"], [0.3333333333333333, \"#9c179e\"], [0.4444444444444444, \"#bd3786\"], [0.5555555555555556, \"#d8576b\"], [0.6666666666666666, \"#ed7953\"], [0.7777777777777778, \"#fb9f3a\"], [0.8888888888888888, \"#fdca26\"], [1.0, \"#f0f921\"]], \"type\": \"contour\"}], \"contourcarpet\": [{\"colorbar\": {\"outlinewidth\": 0, \"ticks\": \"\"}, \"type\": \"contourcarpet\"}], \"heatmap\": [{\"colorbar\": {\"outlinewidth\": 0, \"ticks\": \"\"}, \"colorscale\": [[0.0, \"#0d0887\"], [0.1111111111111111, \"#46039f\"], [0.2222222222222222, \"#7201a8\"], [0.3333333333333333, \"#9c179e\"], [0.4444444444444444, \"#bd3786\"], [0.5555555555555556, \"#d8576b\"], [0.6666666666666666, \"#ed7953\"], [0.7777777777777778, \"#fb9f3a\"], [0.8888888888888888, \"#fdca26\"], [1.0, \"#f0f921\"]], \"type\": \"heatmap\"}], \"heatmapgl\": [{\"colorbar\": {\"outlinewidth\": 0, \"ticks\": \"\"}, \"colorscale\": [[0.0, \"#0d0887\"], [0.1111111111111111, \"#46039f\"], [0.2222222222222222, \"#7201a8\"], [0.3333333333333333, \"#9c179e\"], [0.4444444444444444, \"#bd3786\"], [0.5555555555555556, \"#d8576b\"], [0.6666666666666666, \"#ed7953\"], [0.7777777777777778, \"#fb9f3a\"], [0.8888888888888888, \"#fdca26\"], [1.0, \"#f0f921\"]], \"type\": \"heatmapgl\"}], \"histogram\": [{\"marker\": {\"colorbar\": {\"outlinewidth\": 0, \"ticks\": \"\"}}, \"type\": \"histogram\"}], \"histogram2d\": [{\"colorbar\": {\"outlinewidth\": 0, \"ticks\": \"\"}, \"colorscale\": [[0.0, \"#0d0887\"], [0.1111111111111111, \"#46039f\"], [0.2222222222222222, \"#7201a8\"], [0.3333333333333333, \"#9c179e\"], [0.4444444444444444, \"#bd3786\"], [0.5555555555555556, \"#d8576b\"], [0.6666666666666666, \"#ed7953\"], [0.7777777777777778, \"#fb9f3a\"], [0.8888888888888888, \"#fdca26\"], [1.0, \"#f0f921\"]], \"type\": \"histogram2d\"}], \"histogram2dcontour\": [{\"colorbar\": {\"outlinewidth\": 0, \"ticks\": \"\"}, \"colorscale\": [[0.0, \"#0d0887\"], [0.1111111111111111, \"#46039f\"], [0.2222222222222222, \"#7201a8\"], [0.3333333333333333, \"#9c179e\"], [0.4444444444444444, \"#bd3786\"], [0.5555555555555556, \"#d8576b\"], [0.6666666666666666, \"#ed7953\"], [0.7777777777777778, \"#fb9f3a\"], [0.8888888888888888, \"#fdca26\"], [1.0, \"#f0f921\"]], \"type\": \"histogram2dcontour\"}], \"mesh3d\": [{\"colorbar\": {\"outlinewidth\": 0, \"ticks\": \"\"}, \"type\": \"mesh3d\"}], \"parcoords\": [{\"line\": {\"colorbar\": {\"outlinewidth\": 0, \"ticks\": \"\"}}, \"type\": \"parcoords\"}], \"pie\": [{\"automargin\": true, \"type\": \"pie\"}], \"scatter\": [{\"marker\": {\"colorbar\": {\"outlinewidth\": 0, \"ticks\": \"\"}}, \"type\": \"scatter\"}], \"scatter3d\": [{\"line\": {\"colorbar\": {\"outlinewidth\": 0, \"ticks\": \"\"}}, \"marker\": {\"colorbar\": {\"outlinewidth\": 0, \"ticks\": \"\"}}, \"type\": \"scatter3d\"}], \"scattercarpet\": [{\"marker\": {\"colorbar\": {\"outlinewidth\": 0, \"ticks\": \"\"}}, \"type\": \"scattercarpet\"}], \"scattergeo\": [{\"marker\": {\"colorbar\": {\"outlinewidth\": 0, \"ticks\": \"\"}}, \"type\": \"scattergeo\"}], \"scattergl\": [{\"marker\": {\"colorbar\": {\"outlinewidth\": 0, \"ticks\": \"\"}}, \"type\": \"scattergl\"}], \"scattermapbox\": [{\"marker\": {\"colorbar\": {\"outlinewidth\": 0, \"ticks\": \"\"}}, \"type\": \"scattermapbox\"}], \"scatterpolar\": [{\"marker\": {\"colorbar\": {\"outlinewidth\": 0, \"ticks\": \"\"}}, \"type\": \"scatterpolar\"}], \"scatterpolargl\": [{\"marker\": {\"colorbar\": {\"outlinewidth\": 0, \"ticks\": \"\"}}, \"type\": \"scatterpolargl\"}], \"scatterternary\": [{\"marker\": {\"colorbar\": {\"outlinewidth\": 0, \"ticks\": \"\"}}, \"type\": \"scatterternary\"}], \"surface\": [{\"colorbar\": {\"outlinewidth\": 0, \"ticks\": \"\"}, \"colorscale\": [[0.0, \"#0d0887\"], [0.1111111111111111, \"#46039f\"], [0.2222222222222222, \"#7201a8\"], [0.3333333333333333, \"#9c179e\"], [0.4444444444444444, \"#bd3786\"], [0.5555555555555556, \"#d8576b\"], [0.6666666666666666, \"#ed7953\"], [0.7777777777777778, \"#fb9f3a\"], [0.8888888888888888, \"#fdca26\"], [1.0, \"#f0f921\"]], \"type\": \"surface\"}], \"table\": [{\"cells\": {\"fill\": {\"color\": \"#EBF0F8\"}, \"line\": {\"color\": \"white\"}}, \"header\": {\"fill\": {\"color\": \"#C8D4E3\"}, \"line\": {\"color\": \"white\"}}, \"type\": \"table\"}]}, \"layout\": {\"annotationdefaults\": {\"arrowcolor\": \"#2a3f5f\", \"arrowhead\": 0, \"arrowwidth\": 1}, \"coloraxis\": {\"colorbar\": {\"outlinewidth\": 0, \"ticks\": \"\"}}, \"colorscale\": {\"diverging\": [[0, \"#8e0152\"], [0.1, \"#c51b7d\"], [0.2, \"#de77ae\"], [0.3, \"#f1b6da\"], [0.4, \"#fde0ef\"], [0.5, \"#f7f7f7\"], [0.6, \"#e6f5d0\"], [0.7, \"#b8e186\"], [0.8, \"#7fbc41\"], [0.9, \"#4d9221\"], [1, \"#276419\"]], \"sequential\": [[0.0, \"#0d0887\"], [0.1111111111111111, \"#46039f\"], [0.2222222222222222, \"#7201a8\"], [0.3333333333333333, \"#9c179e\"], [0.4444444444444444, \"#bd3786\"], [0.5555555555555556, \"#d8576b\"], [0.6666666666666666, \"#ed7953\"], [0.7777777777777778, \"#fb9f3a\"], [0.8888888888888888, \"#fdca26\"], [1.0, \"#f0f921\"]], \"sequentialminus\": [[0.0, \"#0d0887\"], [0.1111111111111111, \"#46039f\"], [0.2222222222222222, \"#7201a8\"], [0.3333333333333333, \"#9c179e\"], [0.4444444444444444, \"#bd3786\"], [0.5555555555555556, \"#d8576b\"], [0.6666666666666666, \"#ed7953\"], [0.7777777777777778, \"#fb9f3a\"], [0.8888888888888888, \"#fdca26\"], [1.0, \"#f0f921\"]]}, \"colorway\": [\"#636efa\", \"#EF553B\", \"#00cc96\", \"#ab63fa\", \"#FFA15A\", \"#19d3f3\", \"#FF6692\", \"#B6E880\", \"#FF97FF\", \"#FECB52\"], \"font\": {\"color\": \"#2a3f5f\"}, \"geo\": {\"bgcolor\": \"white\", \"lakecolor\": \"white\", \"landcolor\": \"#E5ECF6\", \"showlakes\": true, \"showland\": true, \"subunitcolor\": \"white\"}, \"hoverlabel\": {\"align\": \"left\"}, \"hovermode\": \"closest\", \"mapbox\": {\"style\": \"light\"}, \"paper_bgcolor\": \"white\", \"plot_bgcolor\": \"#E5ECF6\", \"polar\": {\"angularaxis\": {\"gridcolor\": \"white\", \"linecolor\": \"white\", \"ticks\": \"\"}, \"bgcolor\": \"#E5ECF6\", \"radialaxis\": {\"gridcolor\": \"white\", \"linecolor\": \"white\", \"ticks\": \"\"}}, \"scene\": {\"xaxis\": {\"backgroundcolor\": \"#E5ECF6\", \"gridcolor\": \"white\", \"gridwidth\": 2, \"linecolor\": \"white\", \"showbackground\": true, \"ticks\": \"\", \"zerolinecolor\": \"white\"}, \"yaxis\": {\"backgroundcolor\": \"#E5ECF6\", \"gridcolor\": \"white\", \"gridwidth\": 2, \"linecolor\": \"white\", \"showbackground\": true, \"ticks\": \"\", \"zerolinecolor\": \"white\"}, \"zaxis\": {\"backgroundcolor\": \"#E5ECF6\", \"gridcolor\": \"white\", \"gridwidth\": 2, \"linecolor\": \"white\", \"showbackground\": true, \"ticks\": \"\", \"zerolinecolor\": \"white\"}}, \"shapedefaults\": {\"line\": {\"color\": \"#2a3f5f\"}}, \"ternary\": {\"aaxis\": {\"gridcolor\": \"white\", \"linecolor\": \"white\", \"ticks\": \"\"}, \"baxis\": {\"gridcolor\": \"white\", \"linecolor\": \"white\", \"ticks\": \"\"}, \"bgcolor\": \"#E5ECF6\", \"caxis\": {\"gridcolor\": \"white\", \"linecolor\": \"white\", \"ticks\": \"\"}}, \"title\": {\"x\": 0.05}, \"xaxis\": {\"automargin\": true, \"gridcolor\": \"white\", \"linecolor\": \"white\", \"ticks\": \"\", \"title\": {\"standoff\": 15}, \"zerolinecolor\": \"white\", \"zerolinewidth\": 2}, \"yaxis\": {\"automargin\": true, \"gridcolor\": \"white\", \"linecolor\": \"white\", \"ticks\": \"\", \"title\": {\"standoff\": 15}, \"zerolinecolor\": \"white\", \"zerolinewidth\": 2}}}, \"title\": {\"text\": \"Distribution of people with Primary who agree with justifying gender violence\"}, \"xaxis\": {\"anchor\": \"y\", \"domain\": [0.0, 1.0], \"title\": {\"text\": \"Value\"}}, \"yaxis\": {\"anchor\": \"x\", \"domain\": [0.0, 1.0], \"title\": {\"text\": \"count\"}}},\n",
              "                        {\"responsive\": true}\n",
              "                    ).then(function(){\n",
              "                            \n",
              "var gd = document.getElementById('54ad40cc-2f22-4df1-b945-22325605691c');\n",
              "var x = new MutationObserver(function (mutations, observer) {{\n",
              "        var display = window.getComputedStyle(gd).display;\n",
              "        if (!display || display === 'none') {{\n",
              "            console.log([gd, 'removed!']);\n",
              "            Plotly.purge(gd);\n",
              "            observer.disconnect();\n",
              "        }}\n",
              "}});\n",
              "\n",
              "// Listen for the removal of the full notebook cells\n",
              "var notebookContainer = gd.closest('#notebook-container');\n",
              "if (notebookContainer) {{\n",
              "    x.observe(notebookContainer, {childList: true});\n",
              "}}\n",
              "\n",
              "// Listen for the clearing of the current output cell\n",
              "var outputEl = gd.closest('.output');\n",
              "if (outputEl) {{\n",
              "    x.observe(outputEl, {childList: true});\n",
              "}}\n",
              "\n",
              "                        })\n",
              "                };\n",
              "                \n",
              "            </script>\n",
              "        </div>\n",
              "</body>\n",
              "</html>"
            ]
          },
          "metadata": {
            "tags": []
          }
        }
      ]
    },
    {
      "cell_type": "code",
      "metadata": {
        "colab": {
          "base_uri": "https://localhost:8080/",
          "height": 542
        },
        "id": "N8QU8OWYaQAo",
        "outputId": "a23cdd5c-43a1-49f8-9323-692767277638"
      },
      "source": [
        "df_edu3 = hasEdu.query(\"Demographics_Response =='Secondary'\")\r\n",
        "fig6 = px.histogram(df_edu3, x=\"Value\",title=\"Distribution of people with Secondary Education who agree with justifying gender violence\")\r\n",
        "#fig1.update_xaxes(categoryorder='category ascending')\r\n",
        "fig6.show()"
      ],
      "execution_count": 304,
      "outputs": [
        {
          "output_type": "display_data",
          "data": {
            "text/html": [
              "<html>\n",
              "<head><meta charset=\"utf-8\" /></head>\n",
              "<body>\n",
              "    <div>\n",
              "            <script src=\"https://cdnjs.cloudflare.com/ajax/libs/mathjax/2.7.5/MathJax.js?config=TeX-AMS-MML_SVG\"></script><script type=\"text/javascript\">if (window.MathJax) {MathJax.Hub.Config({SVG: {font: \"STIX-Web\"}});}</script>\n",
              "                <script type=\"text/javascript\">window.PlotlyConfig = {MathJaxConfig: 'local'};</script>\n",
              "        <script src=\"https://cdn.plot.ly/plotly-latest.min.js\"></script>    \n",
              "            <div id=\"00be06e6-3d20-4bc1-bb87-efdcda1e4f37\" class=\"plotly-graph-div\" style=\"height:525px; width:100%;\"></div>\n",
              "            <script type=\"text/javascript\">\n",
              "                \n",
              "                    window.PLOTLYENV=window.PLOTLYENV || {};\n",
              "                    \n",
              "                if (document.getElementById(\"00be06e6-3d20-4bc1-bb87-efdcda1e4f37\")) {\n",
              "                    Plotly.newPlot(\n",
              "                        '00be06e6-3d20-4bc1-bb87-efdcda1e4f37',\n",
              "                        [{\"alignmentgroup\": \"True\", \"bingroup\": \"x\", \"hoverlabel\": {\"namelength\": 0}, \"hovertemplate\": \"Value=%{x}<br>count=%{y}\", \"legendgroup\": \"\", \"marker\": {\"color\": \"#636efa\"}, \"name\": \"\", \"offsetgroup\": \"\", \"orientation\": \"v\", \"showlegend\": false, \"type\": \"histogram\", \"x\": [0.13699999999999998, 0.071, 0.76, 0.5539999999999999, 0.5820000000000001, 0.444, 0.266, 0.696, 0.428, 0.595, 0.23, 0.159, 0.006, 0.002, 0.055, 0.011000000000000001, 0.024, 0.042, 0.006, 0.11199999999999999, 0.032, 0.059000000000000004, 0.084, 0.017, 0.053, 0.05, 0.168, 0.08199999999999999, 0.085, 0.10800000000000001, 0.053, 0.18100000000000002, 0.092, 0.068, 0.091, 0.044000000000000004, 0.009000000000000001, 0.006, 0.14400000000000002, 0.092, 0.087, 0.126, 0.012, 0.27899999999999997, 0.20199999999999999, 0.163, 0.228, 0.022000000000000002, 0.133, 0.078, 0.525, 0.33899999999999997, 0.45799999999999996, 0.376, 0.155, 0.599, 0.528, 0.42200000000000004, 0.38799999999999996, 0.132, 0.027000000000000003, 0.258, 0.179, 0.12, 0.135, 0.051, 0.095, 0.043, 0.23199999999999998, 0.134, 0.132, 0.16, 0.065, 0.125, 0.07, 0.071, 0.07200000000000001, 0.046, 0.027999999999999997, 0.153, 0.046, 0.046, 0.122, 0.016, 0.031, 0.063, 0.266, 0.141, 0.131, 0.18100000000000002, 0.068, 0.256, 0.124, 0.111, 0.158, 0.067, 0.14800000000000002, 0.035, 0.539, 0.20800000000000002, 0.313, 0.45, 0.299, 0.312, 0.067, 0.141, 0.23600000000000002, 0.126, 0.075, 0.02, 0.428, 0.184, 0.249, 0.374, 0.08, 0.226, 0.091, 0.10400000000000001, 0.17600000000000002, 0.03, 0.098, 0.083, 0.451, 0.149, 0.21899999999999997, 0.379, 0.075, 0.386, 0.155, 0.19, 0.293, 0.059000000000000004, 0.519, 0.28800000000000003, 0.767, 0.518, 0.603, 0.64, 0.336, 0.506, 0.20800000000000002, 0.26899999999999996, 0.379, 0.235, 0.012, 0.011000000000000001, 0.031, 0.013000000000000001, 0.013000000000000001, 0.025, 0.011000000000000001, 0.040999999999999995, 0.015, 0.012, 0.028999999999999998, 0.013000000000000001, 0.11599999999999999, 0.025, 0.40700000000000003, 0.161, 0.287, 0.312, 0.183, 0.191, 0.08, 0.071, 0.096, 0.087, 0.615, 0.41100000000000003, 0.474, 0.24600000000000002, 0.45299999999999996, 0.23800000000000002, 0.32899999999999996, 0.124, 0.225, 0.16, 0.754, 0.5760000000000001, 0.488, 0.532, 0.381, 0.621, 0.431, 0.332, 0.418, 0.23, 0.098, 0.11800000000000001, 0.395, 0.24600000000000002, 0.14, 0.262, 0.09300000000000001, 0.405, 0.209, 0.172, 0.28600000000000003, 0.07400000000000001, 0.005, 0.006, 0.02, 0.005, 0.006999999999999999, 0.015, 0.003, 0.027000000000000003, 0.006999999999999999, 0.011000000000000001, 0.013999999999999999, 0.005, 0.049, 0.313, 0.09, 0.209, 0.20199999999999999, 0.154, 0.157, 0.503, 0.209, 0.268, 0.363, 0.23800000000000002, 0.013999999999999999, 0.027999999999999997, 0.19699999999999998, 0.138, 0.071, 0.1, 0.015, 0.285, 0.198, 0.129, 0.133, 0.019, 0.177, 0.053, 0.419, 0.214, 0.252, 0.312, 0.161, 0.18, 0.079, 0.102, 0.13, 0.064, 0.096, 0.07200000000000001, 0.507, 0.247, 0.157, 0.41100000000000003, 0.064, 0.436, 0.21, 0.14800000000000002, 0.324, 0.055, 0.07, 0.07, 0.47100000000000003, 0.17300000000000001, 0.301, 0.273, 0.32, 0.325, 0.111, 0.188, 0.188, 0.174, 0.047, 0.027999999999999997, 0.226, 0.109, 0.114, 0.161, 0.07200000000000001, 0.12, 0.054000000000000006, 0.057999999999999996, 0.076, 0.038, 0.011000000000000001, 0.01, 0.052000000000000005, 0.011000000000000001, 0.012, 0.038, 0.005, 0.07200000000000001, 0.027000000000000003, 0.016, 0.040999999999999995, 0.013999999999999999, 0.158, 0.13, 0.578, 0.384, 0.41700000000000004, 0.441, 0.358, 0.473, 0.264, 0.287, 0.375, 0.17, 0.031, 0.033, 0.152, 0.061, 0.047, 0.11, 0.040999999999999995, 0.18, 0.068, 0.057999999999999996, 0.121, 0.031, 0.028999999999999998, 0.016, 0.136, 0.016, 0.08199999999999999, 0.083, 0.027999999999999997, 0.099, 0.012, 0.057999999999999996, 0.06, 0.017, 0.013999999999999999, 0.015, 0.067, 0.022000000000000002, 0.015, 0.055, 0.009000000000000001, 0.073, 0.032, 0.019, 0.051, 0.01, 0.17300000000000001, 0.099, 0.429, 0.272, 0.24600000000000002, 0.319, 0.11900000000000001, 0.316, 0.201, 0.154, 0.195, 0.086, 0.02, 0.006, 0.365, 0.052000000000000005, 0.247, 0.292, 0.084, 0.183, 0.027999999999999997, 0.12, 0.128, 0.028999999999999998, 0.022000000000000002, 0.153, 0.062, 0.079, 0.07200000000000001, 0.326, 0.19, 0.08900000000000001, 0.19699999999999998, 0.142, 0.358, 0.153, 0.044000000000000004, 0.162, 0.28300000000000003, 0.08800000000000001, 0.341, 0.182, 0.038, 0.15, 0.248, 0.076, 0.39799999999999996, 0.20600000000000002, 0.08, 0.289, 0.306, 0.09, 0.5, 0.23, 0.059000000000000004, 0.368, 0.446, 0.062, 0.294, 0.20800000000000002, 0.045, 0.075, 0.18899999999999997, 0.062, 0.327, 0.18600000000000003, 0.047, 0.092, 0.198, 0.042, 0.37, 0.281, 0.062, 0.249, 0.276, 0.075, 0.223, 0.159, 0.025, 0.126, 0.127, 0.028999999999999998, 0.353, 0.051, 0.068, 0.19699999999999998, 0.315, 0.077, 0.3, 0.079, 0.054000000000000006, 0.17600000000000002, 0.24100000000000002, 0.066, 0.122, 0.044000000000000004, 0.033, 0.053, 0.065, 0.049, 0.08900000000000001, 0.03, 0.009000000000000001, 0.022000000000000002, 0.047, 0.026000000000000002, 0.235, 0.04, 0.18100000000000002, 0.099, 0.212, 0.027000000000000003, 0.17, 0.055999999999999994, 0.725, 0.618, 0.158, 0.419, 0.42, 0.51, 0.44799999999999995, 0.359, 0.105, 0.21100000000000002, 0.23800000000000002, 0.187, 0.243, 0.06, 0.049, 0.087, 0.209, 0.035, 0.253, 0.086, 0.028999999999999998, 0.11599999999999999, 0.207, 0.04, 0.42, 0.27699999999999997, 0.06, 0.226, 0.257, 0.193, 0.099, 0.052000000000000005, 0.022000000000000002, 0.049, 0.043, 0.035, 0.132, 0.057999999999999996, 0.027999999999999997, 0.063, 0.055999999999999994, 0.038, 0.519, 0.085, 0.10300000000000001, 0.193, 0.43, 0.086, 0.535, 0.136, 0.078, 0.172, 0.444, 0.111, 0.264, 0.096, 0.087, 0.11599999999999999, 0.19, 0.061, 0.204, 0.092, 0.036000000000000004, 0.084, 0.132, 0.021, 0.301, 0.064, 0.019, 0.105, 0.264, 0.018000000000000002, 0.247, 0.083, 0.016, 0.099, 0.204, 0.036000000000000004, 0.067, 0.015, 0.013999999999999999, 0.017, 0.053, 0.01, 0.518, 0.395, 0.21600000000000003, 0.301, 0.314, 0.368, 0.275, 0.205, 0.087, 0.163, 0.185, 0.139, 0.302, 0.17600000000000002, 0.09699999999999999, 0.2, 0.223, 0.122, 0.251, 0.127, 0.071, 0.136, 0.151, 0.09, 0.255, 0.17800000000000002, 0.079, 0.16699999999999998, 0.16399999999999998, 0.152, 0.33899999999999997, 0.165, 0.035, 0.254, 0.17, 0.066, 0.031, 0.006, 0.009000000000000001, 0.01, 0.02, 0.005, 0.11800000000000001, 0.025, 0.015, 0.036000000000000004, 0.091, 0.016, 0.35, 0.157, 0.061, 0.187, 0.268, 0.18, 0.175, 0.05, 0.022000000000000002, 0.068, 0.124, 0.063, 0.147, 0.05, 0.055999999999999994, 0.068, 0.08900000000000001, 0.03, 0.16, 0.086, 0.047, 0.069, 0.09699999999999999, 0.043, 0.34, 0.22899999999999998, 0.127, 0.193, 0.247, 0.19399999999999998, 0.267, 0.177, 0.063, 0.121, 0.168, 0.08800000000000001, 0.546, 0.379, 0.127, 0.441, 0.442, 0.161, 0.316, 0.22399999999999998, 0.046, 0.172, 0.201, 0.08, 0.055999999999999994, 0.022000000000000002, 0.009000000000000001, 0.021, 0.04, 0.01, 0.094, 0.037000000000000005, 0.015, 0.037000000000000005, 0.062, 0.016, 0.66, 0.546, 0.311, 0.541, 0.524, 0.28300000000000003, 0.447, 0.282, 0.08199999999999999, 0.263, 0.359, 0.145, 0.353, 0.19699999999999998, 0.053, 0.166, 0.27399999999999997, 0.085, 0.726, 0.591, 0.297, 0.625, 0.611, 0.325, 0.525, 0.298, 0.192, 0.44299999999999995, 0.457, 0.276, 0.22399999999999998, 0.149, 0.07200000000000001, 0.131, 0.136, 0.051, 0.156, 0.094, 0.052000000000000005, 0.08, 0.095, 0.040999999999999995, 0.096, 0.042, 0.006, 0.023, 0.055999999999999994, 0.012, 0.532, 0.35, 0.22699999999999998, 0.415, 0.451, 0.21899999999999997, 0.429, 0.19699999999999998, 0.08900000000000001, 0.248, 0.332, 0.107, 0.364, 0.19899999999999998, 0.047, 0.17, 0.249, 0.07200000000000001, 0.049, 0.013999999999999999, 0.002, 0.006999999999999999, 0.040999999999999995, 0.008, 0.142, 0.07, 0.01, 0.059000000000000004, 0.11199999999999999, 0.022000000000000002, 0.354, 0.08900000000000001, 0.035, 0.209, 0.174, 0.19399999999999998, 0.40299999999999997, 0.273, 0.17300000000000001, 0.245, 0.284, 0.20800000000000002, 0.297, 0.183, 0.06, 0.14400000000000002, 0.185, 0.083, 0.376, 0.147, 0.071, 0.21600000000000003, 0.21100000000000002, 0.124, 0.33299999999999996, 0.135, 0.055999999999999994, 0.17800000000000002, 0.18, 0.055], \"xaxis\": \"x\", \"yaxis\": \"y\"}],\n",
              "                        {\"barmode\": \"relative\", \"legend\": {\"tracegroupgap\": 0}, \"template\": {\"data\": {\"bar\": [{\"error_x\": {\"color\": \"#2a3f5f\"}, \"error_y\": {\"color\": \"#2a3f5f\"}, \"marker\": {\"line\": {\"color\": \"#E5ECF6\", \"width\": 0.5}}, \"type\": \"bar\"}], \"barpolar\": [{\"marker\": {\"line\": {\"color\": \"#E5ECF6\", \"width\": 0.5}}, \"type\": \"barpolar\"}], \"carpet\": [{\"aaxis\": {\"endlinecolor\": \"#2a3f5f\", \"gridcolor\": \"white\", \"linecolor\": \"white\", \"minorgridcolor\": \"white\", \"startlinecolor\": \"#2a3f5f\"}, \"baxis\": {\"endlinecolor\": \"#2a3f5f\", \"gridcolor\": \"white\", \"linecolor\": \"white\", \"minorgridcolor\": \"white\", \"startlinecolor\": \"#2a3f5f\"}, \"type\": \"carpet\"}], \"choropleth\": [{\"colorbar\": {\"outlinewidth\": 0, \"ticks\": \"\"}, \"type\": \"choropleth\"}], \"contour\": [{\"colorbar\": {\"outlinewidth\": 0, \"ticks\": \"\"}, \"colorscale\": [[0.0, \"#0d0887\"], [0.1111111111111111, \"#46039f\"], [0.2222222222222222, \"#7201a8\"], [0.3333333333333333, \"#9c179e\"], [0.4444444444444444, \"#bd3786\"], [0.5555555555555556, \"#d8576b\"], [0.6666666666666666, \"#ed7953\"], [0.7777777777777778, \"#fb9f3a\"], [0.8888888888888888, \"#fdca26\"], [1.0, \"#f0f921\"]], \"type\": \"contour\"}], \"contourcarpet\": [{\"colorbar\": {\"outlinewidth\": 0, \"ticks\": \"\"}, \"type\": \"contourcarpet\"}], \"heatmap\": [{\"colorbar\": {\"outlinewidth\": 0, \"ticks\": \"\"}, \"colorscale\": [[0.0, \"#0d0887\"], [0.1111111111111111, \"#46039f\"], [0.2222222222222222, \"#7201a8\"], [0.3333333333333333, \"#9c179e\"], [0.4444444444444444, \"#bd3786\"], [0.5555555555555556, \"#d8576b\"], [0.6666666666666666, \"#ed7953\"], [0.7777777777777778, \"#fb9f3a\"], [0.8888888888888888, \"#fdca26\"], [1.0, \"#f0f921\"]], \"type\": \"heatmap\"}], \"heatmapgl\": [{\"colorbar\": {\"outlinewidth\": 0, \"ticks\": \"\"}, \"colorscale\": [[0.0, \"#0d0887\"], [0.1111111111111111, \"#46039f\"], [0.2222222222222222, \"#7201a8\"], [0.3333333333333333, \"#9c179e\"], [0.4444444444444444, \"#bd3786\"], [0.5555555555555556, \"#d8576b\"], [0.6666666666666666, \"#ed7953\"], [0.7777777777777778, \"#fb9f3a\"], [0.8888888888888888, \"#fdca26\"], [1.0, \"#f0f921\"]], \"type\": \"heatmapgl\"}], \"histogram\": [{\"marker\": {\"colorbar\": {\"outlinewidth\": 0, \"ticks\": \"\"}}, \"type\": \"histogram\"}], \"histogram2d\": [{\"colorbar\": {\"outlinewidth\": 0, \"ticks\": \"\"}, \"colorscale\": [[0.0, \"#0d0887\"], [0.1111111111111111, \"#46039f\"], [0.2222222222222222, \"#7201a8\"], [0.3333333333333333, \"#9c179e\"], [0.4444444444444444, \"#bd3786\"], [0.5555555555555556, \"#d8576b\"], [0.6666666666666666, \"#ed7953\"], [0.7777777777777778, \"#fb9f3a\"], [0.8888888888888888, \"#fdca26\"], [1.0, \"#f0f921\"]], \"type\": \"histogram2d\"}], \"histogram2dcontour\": [{\"colorbar\": {\"outlinewidth\": 0, \"ticks\": \"\"}, \"colorscale\": [[0.0, \"#0d0887\"], [0.1111111111111111, \"#46039f\"], [0.2222222222222222, \"#7201a8\"], [0.3333333333333333, \"#9c179e\"], [0.4444444444444444, \"#bd3786\"], [0.5555555555555556, \"#d8576b\"], [0.6666666666666666, \"#ed7953\"], [0.7777777777777778, \"#fb9f3a\"], [0.8888888888888888, \"#fdca26\"], [1.0, \"#f0f921\"]], \"type\": \"histogram2dcontour\"}], \"mesh3d\": [{\"colorbar\": {\"outlinewidth\": 0, \"ticks\": \"\"}, \"type\": \"mesh3d\"}], \"parcoords\": [{\"line\": {\"colorbar\": {\"outlinewidth\": 0, \"ticks\": \"\"}}, \"type\": \"parcoords\"}], \"pie\": [{\"automargin\": true, \"type\": \"pie\"}], \"scatter\": [{\"marker\": {\"colorbar\": {\"outlinewidth\": 0, \"ticks\": \"\"}}, \"type\": \"scatter\"}], \"scatter3d\": [{\"line\": {\"colorbar\": {\"outlinewidth\": 0, \"ticks\": \"\"}}, \"marker\": {\"colorbar\": {\"outlinewidth\": 0, \"ticks\": \"\"}}, \"type\": \"scatter3d\"}], \"scattercarpet\": [{\"marker\": {\"colorbar\": {\"outlinewidth\": 0, \"ticks\": \"\"}}, \"type\": \"scattercarpet\"}], \"scattergeo\": [{\"marker\": {\"colorbar\": {\"outlinewidth\": 0, \"ticks\": \"\"}}, \"type\": \"scattergeo\"}], \"scattergl\": [{\"marker\": {\"colorbar\": {\"outlinewidth\": 0, \"ticks\": \"\"}}, \"type\": \"scattergl\"}], \"scattermapbox\": [{\"marker\": {\"colorbar\": {\"outlinewidth\": 0, \"ticks\": \"\"}}, \"type\": \"scattermapbox\"}], \"scatterpolar\": [{\"marker\": {\"colorbar\": {\"outlinewidth\": 0, \"ticks\": \"\"}}, \"type\": \"scatterpolar\"}], \"scatterpolargl\": [{\"marker\": {\"colorbar\": {\"outlinewidth\": 0, \"ticks\": \"\"}}, \"type\": \"scatterpolargl\"}], \"scatterternary\": [{\"marker\": {\"colorbar\": {\"outlinewidth\": 0, \"ticks\": \"\"}}, \"type\": \"scatterternary\"}], \"surface\": [{\"colorbar\": {\"outlinewidth\": 0, \"ticks\": \"\"}, \"colorscale\": [[0.0, \"#0d0887\"], [0.1111111111111111, \"#46039f\"], [0.2222222222222222, \"#7201a8\"], [0.3333333333333333, \"#9c179e\"], [0.4444444444444444, \"#bd3786\"], [0.5555555555555556, \"#d8576b\"], [0.6666666666666666, \"#ed7953\"], [0.7777777777777778, \"#fb9f3a\"], [0.8888888888888888, \"#fdca26\"], [1.0, \"#f0f921\"]], \"type\": \"surface\"}], \"table\": [{\"cells\": {\"fill\": {\"color\": \"#EBF0F8\"}, \"line\": {\"color\": \"white\"}}, \"header\": {\"fill\": {\"color\": \"#C8D4E3\"}, \"line\": {\"color\": \"white\"}}, \"type\": \"table\"}]}, \"layout\": {\"annotationdefaults\": {\"arrowcolor\": \"#2a3f5f\", \"arrowhead\": 0, \"arrowwidth\": 1}, \"coloraxis\": {\"colorbar\": {\"outlinewidth\": 0, \"ticks\": \"\"}}, \"colorscale\": {\"diverging\": [[0, \"#8e0152\"], [0.1, \"#c51b7d\"], [0.2, \"#de77ae\"], [0.3, \"#f1b6da\"], [0.4, \"#fde0ef\"], [0.5, \"#f7f7f7\"], [0.6, \"#e6f5d0\"], [0.7, \"#b8e186\"], [0.8, \"#7fbc41\"], [0.9, \"#4d9221\"], [1, \"#276419\"]], \"sequential\": [[0.0, \"#0d0887\"], [0.1111111111111111, \"#46039f\"], [0.2222222222222222, \"#7201a8\"], [0.3333333333333333, \"#9c179e\"], [0.4444444444444444, \"#bd3786\"], [0.5555555555555556, \"#d8576b\"], [0.6666666666666666, \"#ed7953\"], [0.7777777777777778, \"#fb9f3a\"], [0.8888888888888888, \"#fdca26\"], [1.0, \"#f0f921\"]], \"sequentialminus\": [[0.0, \"#0d0887\"], [0.1111111111111111, \"#46039f\"], [0.2222222222222222, \"#7201a8\"], [0.3333333333333333, \"#9c179e\"], [0.4444444444444444, \"#bd3786\"], [0.5555555555555556, \"#d8576b\"], [0.6666666666666666, \"#ed7953\"], [0.7777777777777778, \"#fb9f3a\"], [0.8888888888888888, \"#fdca26\"], [1.0, \"#f0f921\"]]}, \"colorway\": [\"#636efa\", \"#EF553B\", \"#00cc96\", \"#ab63fa\", \"#FFA15A\", \"#19d3f3\", \"#FF6692\", \"#B6E880\", \"#FF97FF\", \"#FECB52\"], \"font\": {\"color\": \"#2a3f5f\"}, \"geo\": {\"bgcolor\": \"white\", \"lakecolor\": \"white\", \"landcolor\": \"#E5ECF6\", \"showlakes\": true, \"showland\": true, \"subunitcolor\": \"white\"}, \"hoverlabel\": {\"align\": \"left\"}, \"hovermode\": \"closest\", \"mapbox\": {\"style\": \"light\"}, \"paper_bgcolor\": \"white\", \"plot_bgcolor\": \"#E5ECF6\", \"polar\": {\"angularaxis\": {\"gridcolor\": \"white\", \"linecolor\": \"white\", \"ticks\": \"\"}, \"bgcolor\": \"#E5ECF6\", \"radialaxis\": {\"gridcolor\": \"white\", \"linecolor\": \"white\", \"ticks\": \"\"}}, \"scene\": {\"xaxis\": {\"backgroundcolor\": \"#E5ECF6\", \"gridcolor\": \"white\", \"gridwidth\": 2, \"linecolor\": \"white\", \"showbackground\": true, \"ticks\": \"\", \"zerolinecolor\": \"white\"}, \"yaxis\": {\"backgroundcolor\": \"#E5ECF6\", \"gridcolor\": \"white\", \"gridwidth\": 2, \"linecolor\": \"white\", \"showbackground\": true, \"ticks\": \"\", \"zerolinecolor\": \"white\"}, \"zaxis\": {\"backgroundcolor\": \"#E5ECF6\", \"gridcolor\": \"white\", \"gridwidth\": 2, \"linecolor\": \"white\", \"showbackground\": true, \"ticks\": \"\", \"zerolinecolor\": \"white\"}}, \"shapedefaults\": {\"line\": {\"color\": \"#2a3f5f\"}}, \"ternary\": {\"aaxis\": {\"gridcolor\": \"white\", \"linecolor\": \"white\", \"ticks\": \"\"}, \"baxis\": {\"gridcolor\": \"white\", \"linecolor\": \"white\", \"ticks\": \"\"}, \"bgcolor\": \"#E5ECF6\", \"caxis\": {\"gridcolor\": \"white\", \"linecolor\": \"white\", \"ticks\": \"\"}}, \"title\": {\"x\": 0.05}, \"xaxis\": {\"automargin\": true, \"gridcolor\": \"white\", \"linecolor\": \"white\", \"ticks\": \"\", \"title\": {\"standoff\": 15}, \"zerolinecolor\": \"white\", \"zerolinewidth\": 2}, \"yaxis\": {\"automargin\": true, \"gridcolor\": \"white\", \"linecolor\": \"white\", \"ticks\": \"\", \"title\": {\"standoff\": 15}, \"zerolinecolor\": \"white\", \"zerolinewidth\": 2}}}, \"title\": {\"text\": \"Distribution of people with Secondary Education who agree with justifying gender violence\"}, \"xaxis\": {\"anchor\": \"y\", \"domain\": [0.0, 1.0], \"title\": {\"text\": \"Value\"}}, \"yaxis\": {\"anchor\": \"x\", \"domain\": [0.0, 1.0], \"title\": {\"text\": \"count\"}}},\n",
              "                        {\"responsive\": true}\n",
              "                    ).then(function(){\n",
              "                            \n",
              "var gd = document.getElementById('00be06e6-3d20-4bc1-bb87-efdcda1e4f37');\n",
              "var x = new MutationObserver(function (mutations, observer) {{\n",
              "        var display = window.getComputedStyle(gd).display;\n",
              "        if (!display || display === 'none') {{\n",
              "            console.log([gd, 'removed!']);\n",
              "            Plotly.purge(gd);\n",
              "            observer.disconnect();\n",
              "        }}\n",
              "}});\n",
              "\n",
              "// Listen for the removal of the full notebook cells\n",
              "var notebookContainer = gd.closest('#notebook-container');\n",
              "if (notebookContainer) {{\n",
              "    x.observe(notebookContainer, {childList: true});\n",
              "}}\n",
              "\n",
              "// Listen for the clearing of the current output cell\n",
              "var outputEl = gd.closest('.output');\n",
              "if (outputEl) {{\n",
              "    x.observe(outputEl, {childList: true});\n",
              "}}\n",
              "\n",
              "                        })\n",
              "                };\n",
              "                \n",
              "            </script>\n",
              "        </div>\n",
              "</body>\n",
              "</html>"
            ]
          },
          "metadata": {
            "tags": []
          }
        }
      ]
    },
    {
      "cell_type": "code",
      "metadata": {
        "colab": {
          "base_uri": "https://localhost:8080/",
          "height": 542
        },
        "id": "N70lv2Mvaqz_",
        "outputId": "5d59daca-b274-4b2d-80dc-78f4156adf65"
      },
      "source": [
        "df_edu4 = hasEdu.query(\"Demographics_Response =='Higher'\")\r\n",
        "fig7 = px.histogram(df_edu4, x=\"Value\",title=\"Distribution of people with Higher Education who agree with justifying gender violence\")\r\n",
        "#fig1.update_xaxes(categoryorder='category ascending')\r\n",
        "fig7.show()"
      ],
      "execution_count": 305,
      "outputs": [
        {
          "output_type": "display_data",
          "data": {
            "text/html": [
              "<html>\n",
              "<head><meta charset=\"utf-8\" /></head>\n",
              "<body>\n",
              "    <div>\n",
              "            <script src=\"https://cdnjs.cloudflare.com/ajax/libs/mathjax/2.7.5/MathJax.js?config=TeX-AMS-MML_SVG\"></script><script type=\"text/javascript\">if (window.MathJax) {MathJax.Hub.Config({SVG: {font: \"STIX-Web\"}});}</script>\n",
              "                <script type=\"text/javascript\">window.PlotlyConfig = {MathJaxConfig: 'local'};</script>\n",
              "        <script src=\"https://cdn.plot.ly/plotly-latest.min.js\"></script>    \n",
              "            <div id=\"e876ea1c-bb8b-4796-b153-3d628d8f8077\" class=\"plotly-graph-div\" style=\"height:525px; width:100%;\"></div>\n",
              "            <script type=\"text/javascript\">\n",
              "                \n",
              "                    window.PLOTLYENV=window.PLOTLYENV || {};\n",
              "                    \n",
              "                if (document.getElementById(\"e876ea1c-bb8b-4796-b153-3d628d8f8077\")) {\n",
              "                    Plotly.newPlot(\n",
              "                        'e876ea1c-bb8b-4796-b153-3d628d8f8077',\n",
              "                        [{\"alignmentgroup\": \"True\", \"bingroup\": \"x\", \"hoverlabel\": {\"namelength\": 0}, \"hovertemplate\": \"Value=%{x}<br>count=%{y}\", \"legendgroup\": \"\", \"marker\": {\"color\": \"#636efa\"}, \"name\": \"\", \"offsetgroup\": \"\", \"orientation\": \"v\", \"showlegend\": false, \"type\": \"histogram\", \"x\": [0.10099999999999999, 0.045, 0.611, 0.377, 0.41100000000000003, 0.33399999999999996, 0.10800000000000001, 0.555, 0.314, 0.436, 0.209, 0.11900000000000001, 0.002, 0.008, 0.013999999999999999, 0.004, 0.003, 0.011000000000000001, 0.001, 0.054000000000000006, 0.022000000000000002, 0.027000000000000003, 0.038, 0.006999999999999999, 0.009000000000000001, 0.006999999999999999, 0.07, 0.03, 0.027999999999999997, 0.042, 0.025, 0.039, 0.016, 0.016, 0.018000000000000002, 0.006, 0.0, 0.006, 0.066, 0.039, 0.027000000000000003, 0.055, 0.003, 0.14400000000000002, 0.099, 0.061, 0.109, 0.008, 0.015, 0.035, 0.225, 0.11199999999999999, 0.172, 0.11599999999999999, 0.027999999999999997, 0.525, 0.475, 0.311, 0.17, 0.052000000000000005, 0.008, 0.134, 0.07400000000000001, 0.062, 0.073, 0.017, 0.01, 0.011000000000000001, 0.047, 0.03, 0.024, 0.027999999999999997, 0.013999999999999999, 0.036000000000000004, 0.017, 0.012, 0.008, 0.006999999999999999, 0.006, 0.057, 0.017, 0.019, 0.045, 0.008, 0.013999999999999999, 0.057, 0.063, 0.02, 0.003, 0.038, 0.0, 0.15, 0.037000000000000005, 0.027999999999999997, 0.098, 0.006999999999999999, 0.011000000000000001, 0.0, 0.222, 0.013000000000000001, 0.087, 0.2, 0.08199999999999999, 0.053, 0.002, 0.011000000000000001, 0.04, 0.015, 0.011000000000000001, 0.0, 0.185, 0.062, 0.076, 0.155, 0.008, 0.049, 0.006999999999999999, 0.013000000000000001, 0.031, 0.006999999999999999, 0.009000000000000001, 0.024, 0.13699999999999998, 0.032, 0.027999999999999997, 0.114, 0.013000000000000001, 0.23600000000000002, 0.073, 0.087, 0.175, 0.017, 0.244, 0.124, 0.601, 0.38799999999999996, 0.371, 0.431, 0.218, 0.366, 0.10099999999999999, 0.177, 0.276, 0.09300000000000001, 0.008, 0.006999999999999999, 0.016, 0.009000000000000001, 0.008, 0.012, 0.009000000000000001, 0.017, 0.006999999999999999, 0.008, 0.012, 0.006999999999999999, 0.067, 0.008, 0.237, 0.069, 0.161, 0.17600000000000002, 0.129, 0.068, 0.013999999999999999, 0.027000000000000003, 0.035, 0.02, 0.485, 0.225, 0.38299999999999995, 0.14400000000000002, 0.294, 0.139, 0.212, 0.11800000000000001, 0.061, 0.033, 0.498, 0.331, 0.226, 0.33299999999999996, 0.184, 0.41700000000000004, 0.253, 0.166, 0.237, 0.067, 0.023, 0.05, 0.17800000000000002, 0.07200000000000001, 0.027000000000000003, 0.08800000000000001, 0.028999999999999998, 0.191, 0.10800000000000001, 0.055, 0.109, 0.013000000000000001, 0.0, 0.0, 0.005, 0.002, 0.002, 0.003, 0.002, 0.009000000000000001, 0.001, 0.002, 0.003, 0.003, 0.011000000000000001, 0.133, 0.025, 0.065, 0.06, 0.067, 0.051, 0.321, 0.098, 0.09300000000000001, 0.188, 0.09, 0.002, 0.01, 0.039, 0.021, 0.012, 0.013999999999999999, 0.003, 0.10400000000000001, 0.077, 0.040999999999999995, 0.051, 0.015, 0.064, 0.032, 0.261, 0.096, 0.11699999999999999, 0.196, 0.055999999999999994, 0.11199999999999999, 0.055, 0.055999999999999994, 0.075, 0.043, 0.022000000000000002, 0.035, 0.24100000000000002, 0.109, 0.038, 0.171, 0.022000000000000002, 0.235, 0.113, 0.063, 0.16399999999999998, 0.017, 0.019, 0.023, 0.282, 0.042, 0.11900000000000001, 0.128, 0.174, 0.154, 0.027000000000000003, 0.083, 0.102, 0.046, 0.011000000000000001, 0.009000000000000001, 0.042, 0.016, 0.023, 0.031, 0.011000000000000001, 0.031, 0.016, 0.017, 0.018000000000000002, 0.015, 0.001, 0.003, 0.008, 0.003, 0.0, 0.005, 0.001, 0.018000000000000002, 0.005, 0.002, 0.011000000000000001, 0.004, 0.08199999999999999, 0.092, 0.46799999999999997, 0.19399999999999998, 0.289, 0.32899999999999996, 0.254, 0.39899999999999997, 0.204, 0.23800000000000002, 0.309, 0.107, 0.0, 0.001, 0.031, 0.006999999999999999, 0.006999999999999999, 0.026000000000000002, 0.004, 0.086, 0.021, 0.012, 0.062, 0.022000000000000002, 0.001, 0.002, 0.019, 0.001, 0.006999999999999999, 0.012, 0.002, 0.035, 0.002, 0.019, 0.018000000000000002, 0.005, 0.004, 0.005, 0.013000000000000001, 0.004, 0.003, 0.011000000000000001, 0.004, 0.012, 0.004, 0.003, 0.008, 0.004, 0.114, 0.07400000000000001, 0.33799999999999997, 0.184, 0.184, 0.252, 0.081, 0.254, 0.14800000000000002, 0.122, 0.16, 0.066, 0.006999999999999999, 0.001, 0.255, 0.028999999999999998, 0.147, 0.21100000000000002, 0.059000000000000004, 0.12, 0.025, 0.076, 0.084, 0.011000000000000001, 0.019, 0.091, 0.037000000000000005, 0.040999999999999995, 0.040999999999999995, 0.272, 0.157, 0.08, 0.171, 0.11699999999999999, 0.149, 0.037000000000000005, 0.008, 0.046, 0.113, 0.025, 0.231, 0.09, 0.019, 0.09, 0.18600000000000003, 0.040999999999999995, 0.256, 0.11800000000000001, 0.040999999999999995, 0.156, 0.191, 0.052000000000000005, 0.509, 0.247, 0.032, 0.34299999999999997, 0.452, 0.048, 0.054000000000000006, 0.026000000000000002, 0.005, 0.013000000000000001, 0.023, 0.005, 0.171, 0.099, 0.017, 0.046, 0.10400000000000001, 0.021, 0.185, 0.14400000000000002, 0.001, 0.151, 0.14, 0.065, 0.111, 0.08800000000000001, 0.0, 0.092, 0.076, 0.0, 0.2, 0.016, 0.019, 0.081, 0.166, 0.021, 0.168, 0.021, 0.004, 0.079, 0.134, 0.011000000000000001, 0.04, 0.009000000000000001, 0.008, 0.01, 0.016, 0.006999999999999999, 0.045, 0.021, 0.006999999999999999, 0.028999999999999998, 0.015, 0.006, 0.18100000000000002, 0.022000000000000002, 0.133, 0.07400000000000001, 0.096, 0.015, 0.07400000000000001, 0.025, 0.556, 0.44, 0.039, 0.28600000000000003, 0.282, 0.349, 0.166, 0.08199999999999999, 0.026000000000000002, 0.055999999999999994, 0.085, 0.031, 0.07, 0.01, 0.013000000000000001, 0.015, 0.063, 0.006999999999999999, 0.096, 0.024, 0.011000000000000001, 0.018000000000000002, 0.07400000000000001, 0.006, 0.20800000000000002, 0.098, 0.011000000000000001, 0.065, 0.106, 0.094, 0.086, 0.055, 0.004, 0.01, 0.01, 0.01, 0.039, 0.017, 0.0, 0.009000000000000001, 0.004, 0.013000000000000001, 0.33399999999999996, 0.053, 0.031, 0.084, 0.264, 0.043, 0.349, 0.06, 0.035, 0.091, 0.326, 0.055, 0.098, 0.028999999999999998, 0.013999999999999999, 0.026000000000000002, 0.061, 0.018000000000000002, 0.128, 0.03, 0.01, 0.053, 0.081, 0.03, 0.174, 0.026000000000000002, 0.011000000000000001, 0.046, 0.153, 0.008, 0.10800000000000001, 0.031, 0.002, 0.028999999999999998, 0.081, 0.011000000000000001, 0.027000000000000003, 0.005, 0.006999999999999999, 0.006999999999999999, 0.023, 0.005, 0.17600000000000002, 0.07400000000000001, 0.038, 0.038, 0.055999999999999994, 0.021, 0.08, 0.022000000000000002, 0.047, 0.028999999999999998, 0.051, 0.0, 0.16899999999999998, 0.087, 0.044000000000000004, 0.09699999999999999, 0.11599999999999999, 0.07, 0.138, 0.053, 0.031, 0.06, 0.073, 0.062, 0.16399999999999998, 0.085, 0.043, 0.113, 0.094, 0.077, 0.174, 0.092, 0.019, 0.115, 0.078, 0.025, 0.018000000000000002, 0.004, 0.009000000000000001, 0.006, 0.009000000000000001, 0.004, 0.075, 0.011000000000000001, 0.006999999999999999, 0.013000000000000001, 0.063, 0.008, 0.113, 0.037000000000000005, 0.009000000000000001, 0.040999999999999995, 0.065, 0.033, 0.052000000000000005, 0.006, 0.0, 0.023, 0.039, 0.01, 0.134, 0.077, 0.10400000000000001, 0.11, 0.038, 0.077, 0.09699999999999999, 0.028999999999999998, 0.013999999999999999, 0.024, 0.084, 0.028999999999999998, 0.078, 0.033, 0.011000000000000001, 0.033, 0.031, 0.008, 0.32299999999999995, 0.17, 0.04, 0.253, 0.242, 0.06, 0.2, 0.122, 0.048, 0.092, 0.109, 0.047, 0.011000000000000001, 0.005, 0.002, 0.003, 0.006, 0.001, 0.057999999999999996, 0.006999999999999999, 0.012, 0.017, 0.032, 0.006999999999999999, 0.517, 0.409, 0.192, 0.36200000000000004, 0.366, 0.165, 0.10400000000000001, 0.019, 0.003, 0.024, 0.099, 0.012, 0.125, 0.024, 0.0, 0.032, 0.084, 0.02, 0.746, 0.583, 0.237, 0.638, 0.636, 0.309, 0.653, 0.27399999999999997, 0.147, 0.58, 0.599, 0.379, 0.08800000000000001, 0.048, 0.034, 0.043, 0.045, 0.008, 0.063, 0.039, 0.009000000000000001, 0.016, 0.042, 0.01, 0.037000000000000005, 0.013999999999999999, 0.001, 0.006, 0.026000000000000002, 0.005, 0.303, 0.154, 0.08, 0.203, 0.23399999999999999, 0.066, 0.217, 0.078, 0.031, 0.095, 0.177, 0.04, 0.20199999999999999, 0.098, 0.015, 0.10300000000000001, 0.135, 0.019, 0.027000000000000003, 0.006, 0.001, 0.003, 0.024, 0.003, 0.079, 0.033, 0.004, 0.024, 0.067, 0.013999999999999999, 0.22899999999999998, 0.048, 0.013000000000000001, 0.11, 0.096, 0.12300000000000001, 0.15, 0.062, 0.025, 0.07, 0.105, 0.035, 0.091, 0.039, 0.006999999999999999, 0.028999999999999998, 0.057, 0.017, 0.1, 0.024, 0.011000000000000001, 0.028999999999999998, 0.046, 0.039, 0.13699999999999998, 0.043, 0.013000000000000001, 0.047, 0.08199999999999999, 0.028999999999999998], \"xaxis\": \"x\", \"yaxis\": \"y\"}],\n",
              "                        {\"barmode\": \"relative\", \"legend\": {\"tracegroupgap\": 0}, \"template\": {\"data\": {\"bar\": [{\"error_x\": {\"color\": \"#2a3f5f\"}, \"error_y\": {\"color\": \"#2a3f5f\"}, \"marker\": {\"line\": {\"color\": \"#E5ECF6\", \"width\": 0.5}}, \"type\": \"bar\"}], \"barpolar\": [{\"marker\": {\"line\": {\"color\": \"#E5ECF6\", \"width\": 0.5}}, \"type\": \"barpolar\"}], \"carpet\": [{\"aaxis\": {\"endlinecolor\": \"#2a3f5f\", \"gridcolor\": \"white\", \"linecolor\": \"white\", \"minorgridcolor\": \"white\", \"startlinecolor\": \"#2a3f5f\"}, \"baxis\": {\"endlinecolor\": \"#2a3f5f\", \"gridcolor\": \"white\", \"linecolor\": \"white\", \"minorgridcolor\": \"white\", \"startlinecolor\": \"#2a3f5f\"}, \"type\": \"carpet\"}], \"choropleth\": [{\"colorbar\": {\"outlinewidth\": 0, \"ticks\": \"\"}, \"type\": \"choropleth\"}], \"contour\": [{\"colorbar\": {\"outlinewidth\": 0, \"ticks\": \"\"}, \"colorscale\": [[0.0, \"#0d0887\"], [0.1111111111111111, \"#46039f\"], [0.2222222222222222, \"#7201a8\"], [0.3333333333333333, \"#9c179e\"], [0.4444444444444444, \"#bd3786\"], [0.5555555555555556, \"#d8576b\"], [0.6666666666666666, \"#ed7953\"], [0.7777777777777778, \"#fb9f3a\"], [0.8888888888888888, \"#fdca26\"], [1.0, \"#f0f921\"]], \"type\": \"contour\"}], \"contourcarpet\": [{\"colorbar\": {\"outlinewidth\": 0, \"ticks\": \"\"}, \"type\": \"contourcarpet\"}], \"heatmap\": [{\"colorbar\": {\"outlinewidth\": 0, \"ticks\": \"\"}, \"colorscale\": [[0.0, \"#0d0887\"], [0.1111111111111111, \"#46039f\"], [0.2222222222222222, \"#7201a8\"], [0.3333333333333333, \"#9c179e\"], [0.4444444444444444, \"#bd3786\"], [0.5555555555555556, \"#d8576b\"], [0.6666666666666666, \"#ed7953\"], [0.7777777777777778, \"#fb9f3a\"], [0.8888888888888888, \"#fdca26\"], [1.0, \"#f0f921\"]], \"type\": \"heatmap\"}], \"heatmapgl\": [{\"colorbar\": {\"outlinewidth\": 0, \"ticks\": \"\"}, \"colorscale\": [[0.0, \"#0d0887\"], [0.1111111111111111, \"#46039f\"], [0.2222222222222222, \"#7201a8\"], [0.3333333333333333, \"#9c179e\"], [0.4444444444444444, \"#bd3786\"], [0.5555555555555556, \"#d8576b\"], [0.6666666666666666, \"#ed7953\"], [0.7777777777777778, \"#fb9f3a\"], [0.8888888888888888, \"#fdca26\"], [1.0, \"#f0f921\"]], \"type\": \"heatmapgl\"}], \"histogram\": [{\"marker\": {\"colorbar\": {\"outlinewidth\": 0, \"ticks\": \"\"}}, \"type\": \"histogram\"}], \"histogram2d\": [{\"colorbar\": {\"outlinewidth\": 0, \"ticks\": \"\"}, \"colorscale\": [[0.0, \"#0d0887\"], [0.1111111111111111, \"#46039f\"], [0.2222222222222222, \"#7201a8\"], [0.3333333333333333, \"#9c179e\"], [0.4444444444444444, \"#bd3786\"], [0.5555555555555556, \"#d8576b\"], [0.6666666666666666, \"#ed7953\"], [0.7777777777777778, \"#fb9f3a\"], [0.8888888888888888, \"#fdca26\"], [1.0, \"#f0f921\"]], \"type\": \"histogram2d\"}], \"histogram2dcontour\": [{\"colorbar\": {\"outlinewidth\": 0, \"ticks\": \"\"}, \"colorscale\": [[0.0, \"#0d0887\"], [0.1111111111111111, \"#46039f\"], [0.2222222222222222, \"#7201a8\"], [0.3333333333333333, \"#9c179e\"], [0.4444444444444444, \"#bd3786\"], [0.5555555555555556, \"#d8576b\"], [0.6666666666666666, \"#ed7953\"], [0.7777777777777778, \"#fb9f3a\"], [0.8888888888888888, \"#fdca26\"], [1.0, \"#f0f921\"]], \"type\": \"histogram2dcontour\"}], \"mesh3d\": [{\"colorbar\": {\"outlinewidth\": 0, \"ticks\": \"\"}, \"type\": \"mesh3d\"}], \"parcoords\": [{\"line\": {\"colorbar\": {\"outlinewidth\": 0, \"ticks\": \"\"}}, \"type\": \"parcoords\"}], \"pie\": [{\"automargin\": true, \"type\": \"pie\"}], \"scatter\": [{\"marker\": {\"colorbar\": {\"outlinewidth\": 0, \"ticks\": \"\"}}, \"type\": \"scatter\"}], \"scatter3d\": [{\"line\": {\"colorbar\": {\"outlinewidth\": 0, \"ticks\": \"\"}}, \"marker\": {\"colorbar\": {\"outlinewidth\": 0, \"ticks\": \"\"}}, \"type\": \"scatter3d\"}], \"scattercarpet\": [{\"marker\": {\"colorbar\": {\"outlinewidth\": 0, \"ticks\": \"\"}}, \"type\": \"scattercarpet\"}], \"scattergeo\": [{\"marker\": {\"colorbar\": {\"outlinewidth\": 0, \"ticks\": \"\"}}, \"type\": \"scattergeo\"}], \"scattergl\": [{\"marker\": {\"colorbar\": {\"outlinewidth\": 0, \"ticks\": \"\"}}, \"type\": \"scattergl\"}], \"scattermapbox\": [{\"marker\": {\"colorbar\": {\"outlinewidth\": 0, \"ticks\": \"\"}}, \"type\": \"scattermapbox\"}], \"scatterpolar\": [{\"marker\": {\"colorbar\": {\"outlinewidth\": 0, \"ticks\": \"\"}}, \"type\": \"scatterpolar\"}], \"scatterpolargl\": [{\"marker\": {\"colorbar\": {\"outlinewidth\": 0, \"ticks\": \"\"}}, \"type\": \"scatterpolargl\"}], \"scatterternary\": [{\"marker\": {\"colorbar\": {\"outlinewidth\": 0, \"ticks\": \"\"}}, \"type\": \"scatterternary\"}], \"surface\": [{\"colorbar\": {\"outlinewidth\": 0, \"ticks\": \"\"}, \"colorscale\": [[0.0, \"#0d0887\"], [0.1111111111111111, \"#46039f\"], [0.2222222222222222, \"#7201a8\"], [0.3333333333333333, \"#9c179e\"], [0.4444444444444444, \"#bd3786\"], [0.5555555555555556, \"#d8576b\"], [0.6666666666666666, \"#ed7953\"], [0.7777777777777778, \"#fb9f3a\"], [0.8888888888888888, \"#fdca26\"], [1.0, \"#f0f921\"]], \"type\": \"surface\"}], \"table\": [{\"cells\": {\"fill\": {\"color\": \"#EBF0F8\"}, \"line\": {\"color\": \"white\"}}, \"header\": {\"fill\": {\"color\": \"#C8D4E3\"}, \"line\": {\"color\": \"white\"}}, \"type\": \"table\"}]}, \"layout\": {\"annotationdefaults\": {\"arrowcolor\": \"#2a3f5f\", \"arrowhead\": 0, \"arrowwidth\": 1}, \"coloraxis\": {\"colorbar\": {\"outlinewidth\": 0, \"ticks\": \"\"}}, \"colorscale\": {\"diverging\": [[0, \"#8e0152\"], [0.1, \"#c51b7d\"], [0.2, \"#de77ae\"], [0.3, \"#f1b6da\"], [0.4, \"#fde0ef\"], [0.5, \"#f7f7f7\"], [0.6, \"#e6f5d0\"], [0.7, \"#b8e186\"], [0.8, \"#7fbc41\"], [0.9, \"#4d9221\"], [1, \"#276419\"]], \"sequential\": [[0.0, \"#0d0887\"], [0.1111111111111111, \"#46039f\"], [0.2222222222222222, \"#7201a8\"], [0.3333333333333333, \"#9c179e\"], [0.4444444444444444, \"#bd3786\"], [0.5555555555555556, \"#d8576b\"], [0.6666666666666666, \"#ed7953\"], [0.7777777777777778, \"#fb9f3a\"], [0.8888888888888888, \"#fdca26\"], [1.0, \"#f0f921\"]], \"sequentialminus\": [[0.0, \"#0d0887\"], [0.1111111111111111, \"#46039f\"], [0.2222222222222222, \"#7201a8\"], [0.3333333333333333, \"#9c179e\"], [0.4444444444444444, \"#bd3786\"], [0.5555555555555556, \"#d8576b\"], [0.6666666666666666, \"#ed7953\"], [0.7777777777777778, \"#fb9f3a\"], [0.8888888888888888, \"#fdca26\"], [1.0, \"#f0f921\"]]}, \"colorway\": [\"#636efa\", \"#EF553B\", \"#00cc96\", \"#ab63fa\", \"#FFA15A\", \"#19d3f3\", \"#FF6692\", \"#B6E880\", \"#FF97FF\", \"#FECB52\"], \"font\": {\"color\": \"#2a3f5f\"}, \"geo\": {\"bgcolor\": \"white\", \"lakecolor\": \"white\", \"landcolor\": \"#E5ECF6\", \"showlakes\": true, \"showland\": true, \"subunitcolor\": \"white\"}, \"hoverlabel\": {\"align\": \"left\"}, \"hovermode\": \"closest\", \"mapbox\": {\"style\": \"light\"}, \"paper_bgcolor\": \"white\", \"plot_bgcolor\": \"#E5ECF6\", \"polar\": {\"angularaxis\": {\"gridcolor\": \"white\", \"linecolor\": \"white\", \"ticks\": \"\"}, \"bgcolor\": \"#E5ECF6\", \"radialaxis\": {\"gridcolor\": \"white\", \"linecolor\": \"white\", \"ticks\": \"\"}}, \"scene\": {\"xaxis\": {\"backgroundcolor\": \"#E5ECF6\", \"gridcolor\": \"white\", \"gridwidth\": 2, \"linecolor\": \"white\", \"showbackground\": true, \"ticks\": \"\", \"zerolinecolor\": \"white\"}, \"yaxis\": {\"backgroundcolor\": \"#E5ECF6\", \"gridcolor\": \"white\", \"gridwidth\": 2, \"linecolor\": \"white\", \"showbackground\": true, \"ticks\": \"\", \"zerolinecolor\": \"white\"}, \"zaxis\": {\"backgroundcolor\": \"#E5ECF6\", \"gridcolor\": \"white\", \"gridwidth\": 2, \"linecolor\": \"white\", \"showbackground\": true, \"ticks\": \"\", \"zerolinecolor\": \"white\"}}, \"shapedefaults\": {\"line\": {\"color\": \"#2a3f5f\"}}, \"ternary\": {\"aaxis\": {\"gridcolor\": \"white\", \"linecolor\": \"white\", \"ticks\": \"\"}, \"baxis\": {\"gridcolor\": \"white\", \"linecolor\": \"white\", \"ticks\": \"\"}, \"bgcolor\": \"#E5ECF6\", \"caxis\": {\"gridcolor\": \"white\", \"linecolor\": \"white\", \"ticks\": \"\"}}, \"title\": {\"x\": 0.05}, \"xaxis\": {\"automargin\": true, \"gridcolor\": \"white\", \"linecolor\": \"white\", \"ticks\": \"\", \"title\": {\"standoff\": 15}, \"zerolinecolor\": \"white\", \"zerolinewidth\": 2}, \"yaxis\": {\"automargin\": true, \"gridcolor\": \"white\", \"linecolor\": \"white\", \"ticks\": \"\", \"title\": {\"standoff\": 15}, \"zerolinecolor\": \"white\", \"zerolinewidth\": 2}}}, \"title\": {\"text\": \"Distribution of people with Higher Education who agree with justifying gender violence\"}, \"xaxis\": {\"anchor\": \"y\", \"domain\": [0.0, 1.0], \"title\": {\"text\": \"Value\"}}, \"yaxis\": {\"anchor\": \"x\", \"domain\": [0.0, 1.0], \"title\": {\"text\": \"count\"}}},\n",
              "                        {\"responsive\": true}\n",
              "                    ).then(function(){\n",
              "                            \n",
              "var gd = document.getElementById('e876ea1c-bb8b-4796-b153-3d628d8f8077');\n",
              "var x = new MutationObserver(function (mutations, observer) {{\n",
              "        var display = window.getComputedStyle(gd).display;\n",
              "        if (!display || display === 'none') {{\n",
              "            console.log([gd, 'removed!']);\n",
              "            Plotly.purge(gd);\n",
              "            observer.disconnect();\n",
              "        }}\n",
              "}});\n",
              "\n",
              "// Listen for the removal of the full notebook cells\n",
              "var notebookContainer = gd.closest('#notebook-container');\n",
              "if (notebookContainer) {{\n",
              "    x.observe(notebookContainer, {childList: true});\n",
              "}}\n",
              "\n",
              "// Listen for the clearing of the current output cell\n",
              "var outputEl = gd.closest('.output');\n",
              "if (outputEl) {{\n",
              "    x.observe(outputEl, {childList: true});\n",
              "}}\n",
              "\n",
              "                        })\n",
              "                };\n",
              "                \n",
              "            </script>\n",
              "        </div>\n",
              "</body>\n",
              "</html>"
            ]
          },
          "metadata": {
            "tags": []
          }
        }
      ]
    },
    {
      "cell_type": "markdown",
      "metadata": {
        "id": "sbAkg1-MPgzo"
      },
      "source": [
        "They seem to follow exponential distribution"
      ]
    },
    {
      "cell_type": "code",
      "metadata": {
        "id": "ygcWBPkha7KA",
        "colab": {
          "base_uri": "https://localhost:8080/"
        },
        "outputId": "6624fcf2-200d-49cc-be41-207695b297e4"
      },
      "source": [
        "# find representative probability of each state \r\n",
        "prob_noedu_yes = df_edu1['Value'].mean()\r\n",
        "prob_noedu_yes"
      ],
      "execution_count": 306,
      "outputs": [
        {
          "output_type": "execute_result",
          "data": {
            "text/plain": [
              "0.25403125000000015"
            ]
          },
          "metadata": {
            "tags": []
          },
          "execution_count": 306
        }
      ]
    },
    {
      "cell_type": "code",
      "metadata": {
        "colab": {
          "base_uri": "https://localhost:8080/"
        },
        "id": "9K-2WB6bE9HD",
        "outputId": "2e7a6b07-4860-4be0-ac5e-df87d5d387ee"
      },
      "source": [
        "prob_primaryedu_yes = df_edu2['Value'].mean()\r\n",
        "prob_primaryedu_yes "
      ],
      "execution_count": 307,
      "outputs": [
        {
          "output_type": "execute_result",
          "data": {
            "text/plain": [
              "0.22819093406593413"
            ]
          },
          "metadata": {
            "tags": []
          },
          "execution_count": 307
        }
      ]
    },
    {
      "cell_type": "code",
      "metadata": {
        "colab": {
          "base_uri": "https://localhost:8080/"
        },
        "id": "23QQYFDeHqRV",
        "outputId": "58965136-a5a4-4b25-c158-a7388be0b840"
      },
      "source": [
        "prob_secondaryedu_yes = df_edu3['Value'].mean()\r\n",
        "prob_secondaryedu_yes "
      ],
      "execution_count": 308,
      "outputs": [
        {
          "output_type": "execute_result",
          "data": {
            "text/plain": [
              "0.17378891820580483"
            ]
          },
          "metadata": {
            "tags": []
          },
          "execution_count": 308
        }
      ]
    },
    {
      "cell_type": "code",
      "metadata": {
        "colab": {
          "base_uri": "https://localhost:8080/"
        },
        "id": "CdhIQs7qPU19",
        "outputId": "bcb3350d-f170-4a2c-ec1a-521e76fed65d"
      },
      "source": [
        "prob_higheredu_yes = df_edu4['Value'].mean()\r\n",
        "prob_higheredu_yes "
      ],
      "execution_count": 309,
      "outputs": [
        {
          "output_type": "execute_result",
          "data": {
            "text/plain": [
              "0.0889867021276596"
            ]
          },
          "metadata": {
            "tags": []
          },
          "execution_count": 309
        }
      ]
    },
    {
      "cell_type": "markdown",
      "metadata": {
        "id": "NsVcQPBSQXtF"
      },
      "source": [
        "Therefore the emission probabilities are"
      ]
    },
    {
      "cell_type": "code",
      "metadata": {
        "colab": {
          "base_uri": "https://localhost:8080/"
        },
        "id": "G8vll84vPwgz",
        "outputId": "2393f147-39b4-4e2f-a84e-2d6610b23fd0"
      },
      "source": [
        "prob_noedu_no = 1 - prob_noedu_yes\r\n",
        "prob_primaryedu_no = 1 - prob_primaryedu_yes \r\n",
        "prob_secondaryedu_no = 1 - prob_secondaryedu_yes\r\n",
        "prob_higheredu_no = 1 - prob_higheredu_yes \r\n",
        "\r\n",
        "prob_higheredu_no"
      ],
      "execution_count": 310,
      "outputs": [
        {
          "output_type": "execute_result",
          "data": {
            "text/plain": [
              "0.9110132978723404"
            ]
          },
          "metadata": {
            "tags": []
          },
          "execution_count": 310
        }
      ]
    },
    {
      "cell_type": "code",
      "metadata": {
        "colab": {
          "base_uri": "https://localhost:8080/"
        },
        "id": "H-bgNHsbTSfC",
        "outputId": "e731b60a-5a40-4b60-a3d1-a4fcc0034b24"
      },
      "source": [
        "!pip install hmmlearn"
      ],
      "execution_count": 311,
      "outputs": [
        {
          "output_type": "stream",
          "text": [
            "Requirement already satisfied: hmmlearn in /usr/local/lib/python3.6/dist-packages (0.2.4)\n",
            "Requirement already satisfied: numpy>=1.10 in /usr/local/lib/python3.6/dist-packages (from hmmlearn) (1.19.4)\n",
            "Requirement already satisfied: scikit-learn>=0.16 in /usr/local/lib/python3.6/dist-packages (from hmmlearn) (0.22.2.post1)\n",
            "Requirement already satisfied: scipy>=0.19 in /usr/local/lib/python3.6/dist-packages (from hmmlearn) (1.4.1)\n",
            "Requirement already satisfied: joblib>=0.11 in /usr/local/lib/python3.6/dist-packages (from scikit-learn>=0.16->hmmlearn) (1.0.0)\n"
          ],
          "name": "stdout"
        }
      ]
    },
    {
      "cell_type": "code",
      "metadata": {
        "id": "nsYDV36YVgbY"
      },
      "source": [
        "states = ('no_education', 'primary_education','secondary_education','higher_education')\r\n",
        " \r\n",
        "observations = ('Agree', 'Disagree')\r\n",
        " \r\n",
        "start_probability = {'no_education': 0.25, 'primary_education': 0.25,'secondary_education':0.25,'higher_education':0.25}\r\n",
        " \r\n",
        "transition_probability = {\r\n",
        "   'no_education' : {'no_education': 1},\r\n",
        "   'primary_education' : {'primary_education': 1},\r\n",
        "   'secondary_education' : {'secondary_education':1},\r\n",
        "   'higher_education' : {'higher_education': 1}\r\n",
        "   }\r\n",
        " \r\n",
        "emission_probability = {\r\n",
        "   'no_education' : {'Agree':prob_noedu_yes , 'Disagree': prob_noedu_no },\r\n",
        "   'primary_education' :  {'Agree': prob_primaryedu_yes , 'Disagree': prob_primaryedu_no  },\r\n",
        "   'secondary_education' :  {'Agree': prob_secondaryedu_yes  , 'Disagree': prob_secondaryedu_no },\r\n",
        "   'higher_education' :  {'Agree': prob_higheredu_yes  , 'Disagree': prob_higheredu_no }\r\n",
        "   }\r\n",
        "\r\n"
      ],
      "execution_count": 312,
      "outputs": []
    },
    {
      "cell_type": "code",
      "metadata": {
        "id": "BZQkfxGKqcix"
      },
      "source": [
        "from hmmlearn import hmm\r\n",
        "import numpy as np\r\n",
        "\r\n",
        "model = hmm.MultinomialHMM(n_components=4)\r\n",
        "model.startprob_ = np.array([0.25, 0.25,0.25,0.25])\r\n",
        "# model.transmat_ = np.array([[1, 0,0,0],\r\n",
        "#                             [0, 1,0,0],\r\n",
        "#                             [0, 0,1,0],\r\n",
        "#                             [0, 0,0,1]\r\n",
        "#                             ])\r\n",
        "model.transmat_ = np.array([[0.1, 0.1, 0.1,0.7],\r\n",
        "                            [0.3, 0.4, 0.2,0.1],\r\n",
        "                            [0.3, 0.3, 0.2,0.2],\r\n",
        "                            [0, 0, 0,1],\r\n",
        "                            ])\r\n",
        "model.emissionprob_ = np.array([[prob_noedu_yes,prob_noedu_no],\r\n",
        "                                [prob_primaryedu_yes,prob_primaryedu_no],\r\n",
        "                                [prob_secondaryedu_yes, prob_secondaryedu_no],\r\n",
        "                                [prob_higheredu_yes, prob_higheredu_no],\r\n",
        "                                ])\r\n"
      ],
      "execution_count": 313,
      "outputs": []
    },
    {
      "cell_type": "code",
      "metadata": {
        "colab": {
          "base_uri": "https://localhost:8080/"
        },
        "id": "SXZ3Ikbx70Ze",
        "outputId": "e991ae95-de2d-407b-fa48-c656b6045fad"
      },
      "source": [
        "logprob, seq = model.decode(np.array([[0, 1]]).transpose())\r\n",
        "print(math.exp(logprob))\r\n",
        "print(seq)"
      ],
      "execution_count": 316,
      "outputs": [
        {
          "output_type": "stream",
          "text": [
            "0.04049952319439829\n",
            "[0 3]\n"
          ],
          "name": "stdout"
        }
      ]
    },
    {
      "cell_type": "code",
      "metadata": {
        "id": "hgPgJhSe8a8c"
      },
      "source": [
        ""
      ],
      "execution_count": 314,
      "outputs": []
    }
  ]
}