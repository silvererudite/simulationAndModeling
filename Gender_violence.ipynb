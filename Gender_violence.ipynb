{
  "nbformat": 4,
  "nbformat_minor": 0,
  "metadata": {
    "colab": {
      "name": "Gender_violence.ipynb",
      "provenance": [],
      "mount_file_id": "1oazDHx-qbWQg64S4Kwl4UZB-3BYCE3uq",
      "authorship_tag": "ABX9TyOafRClrfJuR1mRZEPyD4lk",
      "include_colab_link": true
    },
    "kernelspec": {
      "name": "python3",
      "display_name": "Python 3"
    }
  },
  "cells": [
    {
      "cell_type": "markdown",
      "metadata": {
        "id": "view-in-github",
        "colab_type": "text"
      },
      "source": [
        "<a href=\"https://colab.research.google.com/github/silvererudite/simulationAndModeling/blob/main/Gender_violence.ipynb\" target=\"_parent\"><img src=\"https://colab.research.google.com/assets/colab-badge.svg\" alt=\"Open In Colab\"/></a>"
      ]
    },
    {
      "cell_type": "code",
      "metadata": {
        "id": "dRBqIcb6b54x"
      },
      "source": [
        "import pandas as pd\n"
      ],
      "execution_count": 1,
      "outputs": []
    },
    {
      "cell_type": "code",
      "metadata": {
        "colab": {
          "base_uri": "https://localhost:8080/",
          "height": 204
        },
        "id": "oKnhll-Xilh8",
        "outputId": "60ad91de-c9fe-40a7-af87-d03dbeb42ee1"
      },
      "source": [
        "violence_data= pd.read_csv('/content/drive/MyDrive/gender_violence_dataset/violence_data.csv')\n",
        "violence_data.head()"
      ],
      "execution_count": 2,
      "outputs": [
        {
          "output_type": "execute_result",
          "data": {
            "text/html": [
              "<div>\n",
              "<style scoped>\n",
              "    .dataframe tbody tr th:only-of-type {\n",
              "        vertical-align: middle;\n",
              "    }\n",
              "\n",
              "    .dataframe tbody tr th {\n",
              "        vertical-align: top;\n",
              "    }\n",
              "\n",
              "    .dataframe thead th {\n",
              "        text-align: right;\n",
              "    }\n",
              "</style>\n",
              "<table border=\"1\" class=\"dataframe\">\n",
              "  <thead>\n",
              "    <tr style=\"text-align: right;\">\n",
              "      <th></th>\n",
              "      <th>RecordID</th>\n",
              "      <th>Country</th>\n",
              "      <th>Gender</th>\n",
              "      <th>Demographics Question</th>\n",
              "      <th>Demographics Response</th>\n",
              "      <th>Question</th>\n",
              "      <th>Survey Year</th>\n",
              "      <th>Value</th>\n",
              "    </tr>\n",
              "  </thead>\n",
              "  <tbody>\n",
              "    <tr>\n",
              "      <th>0</th>\n",
              "      <td>1</td>\n",
              "      <td>Afghanistan</td>\n",
              "      <td>F</td>\n",
              "      <td>Marital status</td>\n",
              "      <td>Never married</td>\n",
              "      <td>... if she burns the food</td>\n",
              "      <td>01/01/2015</td>\n",
              "      <td>NaN</td>\n",
              "    </tr>\n",
              "    <tr>\n",
              "      <th>1</th>\n",
              "      <td>1</td>\n",
              "      <td>Afghanistan</td>\n",
              "      <td>F</td>\n",
              "      <td>Education</td>\n",
              "      <td>Higher</td>\n",
              "      <td>... if she burns the food</td>\n",
              "      <td>01/01/2015</td>\n",
              "      <td>10.1</td>\n",
              "    </tr>\n",
              "    <tr>\n",
              "      <th>2</th>\n",
              "      <td>1</td>\n",
              "      <td>Afghanistan</td>\n",
              "      <td>F</td>\n",
              "      <td>Education</td>\n",
              "      <td>Secondary</td>\n",
              "      <td>... if she burns the food</td>\n",
              "      <td>01/01/2015</td>\n",
              "      <td>13.7</td>\n",
              "    </tr>\n",
              "    <tr>\n",
              "      <th>3</th>\n",
              "      <td>1</td>\n",
              "      <td>Afghanistan</td>\n",
              "      <td>F</td>\n",
              "      <td>Education</td>\n",
              "      <td>Primary</td>\n",
              "      <td>... if she burns the food</td>\n",
              "      <td>01/01/2015</td>\n",
              "      <td>13.8</td>\n",
              "    </tr>\n",
              "    <tr>\n",
              "      <th>4</th>\n",
              "      <td>1</td>\n",
              "      <td>Afghanistan</td>\n",
              "      <td>F</td>\n",
              "      <td>Marital status</td>\n",
              "      <td>Widowed, divorced, separated</td>\n",
              "      <td>... if she burns the food</td>\n",
              "      <td>01/01/2015</td>\n",
              "      <td>13.8</td>\n",
              "    </tr>\n",
              "  </tbody>\n",
              "</table>\n",
              "</div>"
            ],
            "text/plain": [
              "   RecordID      Country Gender  ...                   Question Survey Year Value\n",
              "0         1  Afghanistan      F  ...  ... if she burns the food  01/01/2015   NaN\n",
              "1         1  Afghanistan      F  ...  ... if she burns the food  01/01/2015  10.1\n",
              "2         1  Afghanistan      F  ...  ... if she burns the food  01/01/2015  13.7\n",
              "3         1  Afghanistan      F  ...  ... if she burns the food  01/01/2015  13.8\n",
              "4         1  Afghanistan      F  ...  ... if she burns the food  01/01/2015  13.8\n",
              "\n",
              "[5 rows x 8 columns]"
            ]
          },
          "metadata": {
            "tags": []
          },
          "execution_count": 2
        }
      ]
    },
    {
      "cell_type": "code",
      "metadata": {
        "colab": {
          "base_uri": "https://localhost:8080/"
        },
        "id": "P5rwRojBizab",
        "outputId": "b994e427-98e8-4bd3-d097-d9a4c9aaa0de"
      },
      "source": [
        "violence_data.info()"
      ],
      "execution_count": 3,
      "outputs": [
        {
          "output_type": "stream",
          "text": [
            "<class 'pandas.core.frame.DataFrame'>\n",
            "RangeIndex: 12600 entries, 0 to 12599\n",
            "Data columns (total 8 columns):\n",
            " #   Column                 Non-Null Count  Dtype  \n",
            "---  ------                 --------------  -----  \n",
            " 0   RecordID               12600 non-null  int64  \n",
            " 1   Country                12600 non-null  object \n",
            " 2   Gender                 12600 non-null  object \n",
            " 3   Demographics Question  12600 non-null  object \n",
            " 4   Demographics Response  12600 non-null  object \n",
            " 5   Question               12600 non-null  object \n",
            " 6   Survey Year            12600 non-null  object \n",
            " 7   Value                  11187 non-null  float64\n",
            "dtypes: float64(1), int64(1), object(6)\n",
            "memory usage: 787.6+ KB\n"
          ],
          "name": "stdout"
        }
      ]
    },
    {
      "cell_type": "code",
      "metadata": {
        "colab": {
          "base_uri": "https://localhost:8080/"
        },
        "id": "x7TizrDCjY2S",
        "outputId": "e4175d91-5a02-469f-c2e3-2422d962075d"
      },
      "source": [
        "violence_data.shape"
      ],
      "execution_count": 4,
      "outputs": [
        {
          "output_type": "execute_result",
          "data": {
            "text/plain": [
              "(12600, 8)"
            ]
          },
          "metadata": {
            "tags": []
          },
          "execution_count": 4
        }
      ]
    },
    {
      "cell_type": "code",
      "metadata": {
        "colab": {
          "base_uri": "https://localhost:8080/"
        },
        "id": "xlw2yJqMlLRq",
        "outputId": "be7e9a7b-6d0e-4fed-82c6-bd0dd94b9952"
      },
      "source": [
        "violence_data['Country'].value_counts()"
      ],
      "execution_count": 7,
      "outputs": [
        {
          "output_type": "execute_result",
          "data": {
            "text/plain": [
              "Mali                     180\n",
              "Kenya                    180\n",
              "Sao Tome and Principe    180\n",
              "Indonesia                180\n",
              "Morocco                  180\n",
              "                        ... \n",
              "Maldives                 180\n",
              "Cote d'Ivoire            180\n",
              "Rwanda                   180\n",
              "Nicaragua                180\n",
              "Zambia                   180\n",
              "Name: Country, Length: 70, dtype: int64"
            ]
          },
          "metadata": {
            "tags": []
          },
          "execution_count": 7
        }
      ]
    },
    {
      "cell_type": "code",
      "metadata": {
        "colab": {
          "base_uri": "https://localhost:8080/"
        },
        "id": "01iVlfsjl1_y",
        "outputId": "474967d4-d796-41a0-b52f-3a067d5fc369"
      },
      "source": [
        "violence_data['Demographics Response'].value_counts()"
      ],
      "execution_count": 8,
      "outputs": [
        {
          "output_type": "execute_result",
          "data": {
            "text/plain": [
              "Employed for kind               840\n",
              "Rural                           840\n",
              "Married or living together      840\n",
              "Widowed, divorced, separated    840\n",
              "Urban                           840\n",
              "Higher                          840\n",
              "15-24                           840\n",
              "35-49                           840\n",
              "No education                    840\n",
              "25-34                           840\n",
              "Employed for cash               840\n",
              "Primary                         840\n",
              "Secondary                       840\n",
              "Never married                   840\n",
              "Unemployed                      840\n",
              "Name: Demographics Response, dtype: int64"
            ]
          },
          "metadata": {
            "tags": []
          },
          "execution_count": 8
        }
      ]
    },
    {
      "cell_type": "code",
      "metadata": {
        "id": "7NzR_ioqoRat"
      },
      "source": [
        ""
      ],
      "execution_count": null,
      "outputs": []
    }
  ]
}