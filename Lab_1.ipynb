{
  "nbformat": 4,
  "nbformat_minor": 0,
  "metadata": {
    "colab": {
      "name": "Lab_1.ipynb",
      "provenance": [],
      "authorship_tag": "ABX9TyMHlD8dnANNxoc2KoPzL4h7",
      "include_colab_link": true
    },
    "kernelspec": {
      "name": "python3",
      "display_name": "Python 3"
    }
  },
  "cells": [
    {
      "cell_type": "markdown",
      "metadata": {
        "id": "view-in-github",
        "colab_type": "text"
      },
      "source": [
        "<a href=\"https://colab.research.google.com/github/silvererudite/simulationAndModeling/blob/main/Lab_1.ipynb\" target=\"_parent\"><img src=\"https://colab.research.google.com/assets/colab-badge.svg\" alt=\"Open In Colab\"/></a>"
      ]
    },
    {
      "cell_type": "code",
      "metadata": {
        "id": "pHi2SIb2pySn"
      },
      "source": [
        "import sympy\n",
        "from sympy.physics.units import *\n",
        "\n"
      ],
      "execution_count": 46,
      "outputs": []
    },
    {
      "cell_type": "code",
      "metadata": {
        "id": "9-G5cXIF5aCU",
        "outputId": "6ac557be-c5a0-4529-c925-2e3a07bd73eb",
        "colab": {
          "base_uri": "https://localhost:8080/"
        }
      },
      "source": [
        "h= 381*meter #height of empire state building\n",
        "a = 9.81 * meter / second ** 2\n",
        "a"
      ],
      "execution_count": 47,
      "outputs": [
        {
          "output_type": "execute_result",
          "data": {
            "text/plain": [
              "9.81*meter/second**2"
            ]
          },
          "metadata": {
            "tags": []
          },
          "execution_count": 47
        }
      ]
    },
    {
      "cell_type": "code",
      "metadata": {
        "id": "pXNX-LR3Fwt7",
        "outputId": "6b758248-56be-45f6-d5cc-7dcda9916560",
        "colab": {
          "base_uri": "https://localhost:8080/"
        }
      },
      "source": [
        "v=sqrt(2*a*h) #initial velocity is zero\n",
        "v"
      ],
      "execution_count": 48,
      "outputs": [
        {
          "output_type": "execute_result",
          "data": {
            "text/plain": [
              "86.459354612442*meter/second"
            ]
          },
          "metadata": {
            "tags": []
          },
          "execution_count": 48
        }
      ]
    },
    {
      "cell_type": "markdown",
      "metadata": {
        "id": "KirPmj01qU_2"
      },
      "source": [
        "Find time taken to fall that height"
      ]
    },
    {
      "cell_type": "code",
      "metadata": {
        "id": "OjM_zAiRqQ46",
        "outputId": "ca6d4089-70f3-4c73-cbc6-86232c8a5fd9",
        "colab": {
          "base_uri": "https://localhost:8080/"
        }
      },
      "source": [
        "t = sqrt((2*h/a))\n",
        "t"
      ],
      "execution_count": 49,
      "outputs": [
        {
          "output_type": "execute_result",
          "data": {
            "text/plain": [
              "8.81338986875046*second"
            ]
          },
          "metadata": {
            "tags": []
          },
          "execution_count": 49
        }
      ]
    },
    {
      "cell_type": "markdown",
      "metadata": {
        "id": "w5Lrpp2Jq54m"
      },
      "source": [
        "But in reality air resistence acts on the coin and it reaches terminal velocity before falling. From the book, it's given that once penny reaches 18 m/s, a=0 "
      ]
    },
    {
      "cell_type": "markdown",
      "metadata": {
        "id": "1rxN2hHKsdmV"
      },
      "source": [
        "Let's find time taken to reach 18 m/s"
      ]
    },
    {
      "cell_type": "code",
      "metadata": {
        "id": "aB3aGAAdIFkI",
        "outputId": "6807284b-d364-472c-bccc-552d733419f0",
        "colab": {
          "base_uri": "https://localhost:8080/"
        }
      },
      "source": [
        "t = (18 * meter/second)/a\n",
        "t\n"
      ],
      "execution_count": 50,
      "outputs": [
        {
          "output_type": "execute_result",
          "data": {
            "text/plain": [
              "1.8348623853211*second"
            ]
          },
          "metadata": {
            "tags": []
          },
          "execution_count": 50
        }
      ]
    },
    {
      "cell_type": "markdown",
      "metadata": {
        "id": "CPjQEgiMvQ3O"
      },
      "source": [
        "Now let's plot the velocity change wrt time and this time we will take drag force into account. For simplicity we will do so till 20 secs."
      ]
    },
    {
      "cell_type": "markdown",
      "metadata": {
        "id": "V64bw587FvCQ"
      },
      "source": [
        "Ftot = Fgrav + Fair = mg - ks(t) we will be calculating change of accelration based on this equation."
      ]
    },
    {
      "cell_type": "code",
      "metadata": {
        "id": "xCTwfXe-moy5",
        "outputId": "106626c8-61fb-437e-8660-637eae09c30f",
        "colab": {
          "base_uri": "https://localhost:8080/",
          "height": 334
        }
      },
      "source": [
        "import numpy as np\n",
        "import matplotlib.pyplot as plt\n",
        "\n",
        "coeff=0.2\n",
        "times = np.linspace(0,20)\n",
        "tstep = 0.1\n",
        "no_drag_velocities = 9.8*times\n",
        "a=0 * meter/ second **2\n",
        "v=0 * meter /second\n",
        "drag_velocities = []\n",
        "for i in times:\n",
        "    drag_velocities.append(v)\n",
        "    a=9.8-coeff*(v**2)*tstep\n",
        "    v=v+a*tstep\n",
        "    #print(v)\n",
        "\n",
        "plt.figure(figsize=(15,5))\n",
        "plt.plot(times,no_drag_velocities,label=\"Without Drag\") \n",
        "plt.plot(times,drag_velocities,label=\"With Drag\")\n",
        "plt.xlabel(\"Time [s]\")\n",
        "plt.ylabel(\"Speed [m/s]\")\n",
        "plt.legend(loc=\"upper left\")\n",
        "plt.grid()\n",
        "plt.show()"
      ],
      "execution_count": 51,
      "outputs": [
        {
          "output_type": "display_data",
          "data": {
            "image/png": "[encoded data removed]",
            "text/plain": [
              "<Figure size 1080x360 with 1 Axes>"
            ]
          },
          "metadata": {
            "tags": [],
            "needs_background": "light"
          }
        }
      ]
    },
    {
      "cell_type": "markdown",
      "metadata": {
        "id": "9PcZltIayu0P"
      },
      "source": [
        "Therefore it seems like the coin stays at terminal velocity for quite sometime and hits the ground or anyone at a much lesser velocity than 86 m/s calculatesd by first model."
      ]
    },
    {
      "cell_type": "code",
      "metadata": {
        "id": "LAuOvO1owgcg"
      },
      "source": [
        "  "
      ],
      "execution_count": 51,
      "outputs": []
    }
  ]
}