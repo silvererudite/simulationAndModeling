{
  "nbformat": 4,
  "nbformat_minor": 0,
  "metadata": {
    "colab": {
      "name": "Lab_3.ipynb",
      "provenance": [],
      "collapsed_sections": [],
      "include_colab_link": true
    },
    "kernelspec": {
      "name": "python3",
      "display_name": "Python 3"
    }
  },
  "cells": [
    {
      "cell_type": "markdown",
      "metadata": {
        "id": "view-in-github",
        "colab_type": "text"
      },
      "source": [
        "<a href=\"https://colab.research.google.com/github/silvererudite/simulationAndModeling/blob/main/Lab_3.ipynb\" target=\"_parent\"><img src=\"https://colab.research.google.com/assets/colab-badge.svg\" alt=\"Open In Colab\"/></a>"
      ]
    },
    {
      "cell_type": "code",
      "metadata": {
        "id": "y4EdGpxZO6dJ"
      },
      "source": [
        "import numpy as np\n",
        "import pandas as pd\n",
        "from pandas_datareader import data as web\n",
        "import random"
      ],
      "execution_count": 1,
      "outputs": []
    },
    {
      "cell_type": "code",
      "metadata": {
        "id": "lnlTBNX4P8gS",
        "outputId": "46b23cb5-ba5e-4728-fb82-450428eb7d2b",
        "colab": {
          "base_uri": "https://localhost:8080/",
          "height": 235
        }
      },
      "source": [
        "data = pd.read_html('https://en.wikipedia.org/wiki/List_of_S%26P_500_companies')\n",
        "\n",
        "table = data[0]\n",
        "corrected_table = table[0:]\n",
        "tickers = corrected_table['Symbol'].tolist()\n",
        "\n",
        "# pull Adjusted closing prices with Pandas datareader and check the head of this data\n",
        "\n",
        "random_selection = ['ETSY', 'NWSA', 'APTV', 'SWK', 'RJF']\n",
        "\n",
        "data = pd.DataFrame()\n",
        "\n",
        "for item in random_selection:\n",
        "    data[item] = web.DataReader(item, data_source='yahoo', start='15-09-2016')['Adj Close']\n",
        "\n",
        "data.head()"
      ],
      "execution_count": 2,
      "outputs": [
        {
          "output_type": "execute_result",
          "data": {
            "text/html": [
              "<div>\n",
              "<style scoped>\n",
              "    .dataframe tbody tr th:only-of-type {\n",
              "        vertical-align: middle;\n",
              "    }\n",
              "\n",
              "    .dataframe tbody tr th {\n",
              "        vertical-align: top;\n",
              "    }\n",
              "\n",
              "    .dataframe thead th {\n",
              "        text-align: right;\n",
              "    }\n",
              "</style>\n",
              "<table border=\"1\" class=\"dataframe\">\n",
              "  <thead>\n",
              "    <tr style=\"text-align: right;\">\n",
              "      <th></th>\n",
              "      <th>ETSY</th>\n",
              "      <th>NWSA</th>\n",
              "      <th>APTV</th>\n",
              "      <th>SWK</th>\n",
              "      <th>RJF</th>\n",
              "    </tr>\n",
              "    <tr>\n",
              "      <th>Date</th>\n",
              "      <th></th>\n",
              "      <th></th>\n",
              "      <th></th>\n",
              "      <th></th>\n",
              "      <th></th>\n",
              "    </tr>\n",
              "  </thead>\n",
              "  <tbody>\n",
              "    <tr>\n",
              "      <th>2016-09-15</th>\n",
              "      <td>13.63</td>\n",
              "      <td>12.835441</td>\n",
              "      <td>55.422417</td>\n",
              "      <td>112.600578</td>\n",
              "      <td>53.800987</td>\n",
              "    </tr>\n",
              "    <tr>\n",
              "      <th>2016-09-16</th>\n",
              "      <td>13.57</td>\n",
              "      <td>12.835441</td>\n",
              "      <td>55.951706</td>\n",
              "      <td>111.431709</td>\n",
              "      <td>52.826019</td>\n",
              "    </tr>\n",
              "    <tr>\n",
              "      <th>2016-09-19</th>\n",
              "      <td>13.36</td>\n",
              "      <td>12.816619</td>\n",
              "      <td>55.791313</td>\n",
              "      <td>112.489258</td>\n",
              "      <td>52.919765</td>\n",
              "    </tr>\n",
              "    <tr>\n",
              "      <th>2016-09-20</th>\n",
              "      <td>13.51</td>\n",
              "      <td>12.901311</td>\n",
              "      <td>55.213924</td>\n",
              "      <td>113.138618</td>\n",
              "      <td>53.407249</td>\n",
              "    </tr>\n",
              "    <tr>\n",
              "      <th>2016-09-21</th>\n",
              "      <td>14.54</td>\n",
              "      <td>13.108335</td>\n",
              "      <td>55.751225</td>\n",
              "      <td>113.648842</td>\n",
              "      <td>54.166599</td>\n",
              "    </tr>\n",
              "  </tbody>\n",
              "</table>\n",
              "</div>"
            ],
            "text/plain": [
              "             ETSY       NWSA       APTV         SWK        RJF\n",
              "Date                                                          \n",
              "2016-09-15  13.63  12.835441  55.422417  112.600578  53.800987\n",
              "2016-09-16  13.57  12.835441  55.951706  111.431709  52.826019\n",
              "2016-09-19  13.36  12.816619  55.791313  112.489258  52.919765\n",
              "2016-09-20  13.51  12.901311  55.213924  113.138618  53.407249\n",
              "2016-09-21  14.54  13.108335  55.751225  113.648842  54.166599"
            ]
          },
          "metadata": {
            "tags": []
          },
          "execution_count": 2
        }
      ]
    },
    {
      "cell_type": "markdown",
      "metadata": {
        "id": "z1ISfwcR-4t2"
      },
      "source": [
        "##Question\n",
        "\n",
        "The dataset given is from a popular stock market which is called S&P 500 where these 5 stocks are specifically chosen because of some valuable features.\n",
        "\n",
        "Consider that the stock **ETSY** and **APTV** have a very strong correlation and fluctuates with having a similar change. Right now your task would be determining the change occurs in stock **APTV** due to change in stock **ETSY**. \n",
        "\n",
        ">Use scipy function to interpolate the data and get the value of **APTV** when the value of **ETSY** is 73.76\n",
        "\n",
        ">Now use Sklearn to implement Linear Regression and find the Intercept, Coefficient and calculate y_pred over a few random generated data (x_pred > 150)\n",
        "\n",
        ">Finally, determine the goodness of fit of your Linear Regression to this problem."
      ]
    },
    {
      "cell_type": "code",
      "metadata": {
        "id": "5bDl1HiwP_Qz",
        "outputId": "a9908608-a815-46ba-f39f-2fc9d71214c2",
        "colab": {
          "base_uri": "https://localhost:8080/"
        }
      },
      "source": [
        "xdata = data['ETSY']\n",
        "xdata.shape"
      ],
      "execution_count": 4,
      "outputs": [
        {
          "output_type": "execute_result",
          "data": {
            "text/plain": [
              "(1050,)"
            ]
          },
          "metadata": {
            "tags": []
          },
          "execution_count": 4
        }
      ]
    },
    {
      "cell_type": "code",
      "metadata": {
        "id": "oc5ho-ULQBbt",
        "outputId": "38ea0496-872e-4fcd-a6a8-936488443440",
        "colab": {
          "base_uri": "https://localhost:8080/"
        }
      },
      "source": [
        "import scipy \n",
        "from scipy import interpolate\n",
        "import matplotlib.pyplot as plt\n",
        "ydata = data['APTV']\n",
        "f = interpolate.interp1d(xdata, ydata)\n",
        "\n",
        "xnew = 73.76\n",
        "ynew = f(xnew)\n",
        "\n",
        "ynew"
      ],
      "execution_count": 7,
      "outputs": [
        {
          "output_type": "execute_result",
          "data": {
            "text/plain": [
              "array(73.18944496)"
            ]
          },
          "metadata": {
            "tags": []
          },
          "execution_count": 7
        }
      ]
    },
    {
      "cell_type": "markdown",
      "metadata": {
        "id": "1ArDvzJqQJIe"
      },
      "source": [
        "A graph of the relation between the two stocks"
      ]
    },
    {
      "cell_type": "code",
      "metadata": {
        "id": "_KKBTf7cQHdE",
        "outputId": "71ac92f4-b771-442c-e0dd-4e0f25ae0ff7",
        "colab": {
          "base_uri": "https://localhost:8080/",
          "height": 265
        }
      },
      "source": [
        "plt.plot(xdata, ydata, 'o', xnew, ynew, '-')\n",
        "plt.show()"
      ],
      "execution_count": 8,
      "outputs": [
        {
          "output_type": "display_data",
          "data": {
            "image/png": "[encoded data removed]",
            "text/plain": [
              "<Figure size 432x288 with 1 Axes>"
            ]
          },
          "metadata": {
            "tags": [],
            "needs_background": "light"
          }
        }
      ]
    },
    {
      "cell_type": "markdown",
      "metadata": {
        "id": "DnalJJF8QQMO"
      },
      "source": [
        "Linear Regression"
      ]
    },
    {
      "cell_type": "code",
      "metadata": {
        "id": "ZEtf6VrYQJOv",
        "outputId": "85b005db-3275-4f4d-bf93-ee9d023343a1",
        "colab": {
          "base_uri": "https://localhost:8080/"
        }
      },
      "source": [
        "X = xdata.values.reshape(-1, 1) #reshaping to 2D\n",
        "y = ydata.values.reshape(-1, 1) #reshaping to 2D\n",
        "from sklearn.linear_model import LinearRegression\n",
        "reg = LinearRegression().fit(X, y)\n",
        "print(\"Goodness of fit\",reg.score(X, y))\n",
        "\n",
        "print(\"Coefficient:\", reg.coef_)\n",
        "\n",
        "print(\"Intercept\",reg.intercept_)\n",
        "\n",
        "reg.predict([[170],[181]])"
      ],
      "execution_count": 26,
      "outputs": [
        {
          "output_type": "stream",
          "text": [
            "Goodness of fit 0.15966954150729984\n",
            "Coefficient: [[0.15943334]]\n",
            "Intercept [70.82846455]\n"
          ],
          "name": "stdout"
        },
        {
          "output_type": "execute_result",
          "data": {
            "text/plain": [
              "array([[97.93213174],\n",
              "       [99.68589845]])"
            ]
          },
          "metadata": {
            "tags": []
          },
          "execution_count": 26
        }
      ]
    },
    {
      "cell_type": "code",
      "metadata": {
        "id": "Qp0jKURZQOyX"
      },
      "source": [
        ""
      ],
      "execution_count": null,
      "outputs": []
    }
  ]
}