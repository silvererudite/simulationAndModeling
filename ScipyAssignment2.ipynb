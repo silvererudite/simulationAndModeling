{
  "nbformat": 4,
  "nbformat_minor": 0,
  "metadata": {
    "colab": {
      "name": "ScipyAssignment2.ipynb",
      "provenance": [],
      "authorship_tag": "ABX9TyMJcKXA5gJULOUGQDF3fBLa",
      "include_colab_link": true
    },
    "kernelspec": {
      "name": "python3",
      "display_name": "Python 3"
    }
  },
  "cells": [
    {
      "cell_type": "markdown",
      "metadata": {
        "id": "view-in-github",
        "colab_type": "text"
      },
      "source": [
        "<a href=\"https://colab.research.google.com/github/silvererudite/simulationAndModeling/blob/main/ScipyAssignment2.ipynb\" target=\"_parent\"><img src=\"https://colab.research.google.com/assets/colab-badge.svg\" alt=\"Open In Colab\"/></a>"
      ]
    },
    {
      "cell_type": "code",
      "metadata": {
        "id": "sPQYoNTvYX_B"
      },
      "source": [
        "# differentiation\r\n",
        "import numpy as np\r\n",
        "import matplotlib.pyplot as plt\r\n",
        "from sympy import *\r\n",
        "x, y, z = symbols('x y z')\r\n",
        "init_printing(use_unicode=True)\r\n",
        "\r\n",
        "# problem 1 part a\r\n",
        "df01 = diff((3*x**2),x)\r\n",
        "df02 = diff((y**2),y)\r\n",
        "df03 = diff((3*z),z)\r\n",
        "\r\n",
        "#part b\r\n",
        "df11 = diff((7*x),x)\r\n",
        "df12 = diff((-3*y),y)\r\n",
        "df13 = diff((5/2*z),z)\r\n",
        "\r\n",
        "# part c\r\n",
        "df21 = diff((2*x),x)\r\n",
        "df22 = diff((-y**2),y)\r\n",
        "df23 = diff((8*z),z)\r\n"
      ],
      "execution_count": 17,
      "outputs": []
    },
    {
      "cell_type": "code",
      "metadata": {
        "id": "uvLy5buhkP7F",
        "colab": {
          "base_uri": "https://localhost:8080/"
        },
        "outputId": "70b707b5-24ac-41bb-af74-99d6b103479b"
      },
      "source": [
        "# problem 2\r\n",
        "i = np.array([[df01,df02,df03], [df11,df12,df13],[df21,df22,df23]])\r\n",
        "i"
      ],
      "execution_count": 19,
      "outputs": [
        {
          "output_type": "execute_result",
          "data": {
            "text/plain": [
              "array([[6*x, 2*y, 3],\n",
              "       [7, -3, 2.50000000000000],\n",
              "       [2, -2*y, 8]], dtype=object)"
            ]
          },
          "metadata": {
            "tags": []
          },
          "execution_count": 19
        }
      ]
    },
    {
      "cell_type": "code",
      "metadata": {
        "id": "uVIzy_kil_4m"
      },
      "source": [
        "# problem 3\r\n",
        "from scipy import optimize\r\n",
        "def F1(x,y,z):\r\n",
        "    return 3*x**2+y**2+3*z+21\r\n",
        "x = optimize.broyden1(F, [1,1,1])\r\n",
        "x\r\n",
        "     \r\n",
        "\r\n"
      ],
      "execution_count": null,
      "outputs": []
    },
    {
      "cell_type": "code",
      "metadata": {
        "colab": {
          "base_uri": "https://localhost:8080/"
        },
        "id": "xrbcelKYxij2",
        "outputId": "393158cc-5e16-4a23-d018-9970cdad583f"
      },
      "source": [
        "# problem number 4\r\n",
        "from scipy.interpolate import interp1d\r\n",
        "\r\n",
        "x = [1910,1915,1920,1925,1930,1935]\r\n",
        "y = [21.50,21.691,21.883,22.075,22.268,22.461]\r\n",
        "# part a\r\n",
        "f = interp1d(x, y)\r\n",
        "f2 = interp1d(x, y, kind='cubic')\r\n",
        "\r\n",
        "#part b\r\n",
        "xnew = 1923\r\n",
        "\r\n",
        "from scipy.interpolate import lagrange\r\n",
        "poly = lagrange(x, y)\r\n",
        "\r\n",
        "# print('linear',f(xnew))\r\n",
        "# print('cubic',f2(xnew))\r\n",
        "print('langrange',poly(xnew))\r\n",
        "#part c\r\n",
        "absolute_error = 21.998 - poly(xnew)\r\n",
        "print('absolute error', absolute_error)"
      ],
      "execution_count": null,
      "outputs": [
        {
          "output_type": "stream",
          "text": [
            "langrange 21.98232799768448\n",
            "absolute error 0.01567200231552235\n"
          ],
          "name": "stdout"
        }
      ]
    },
    {
      "cell_type": "markdown",
      "metadata": {
        "id": "i0OfoN72a4Eg"
      },
      "source": [
        "plotting linear vs lagrange\r\n"
      ]
    },
    {
      "cell_type": "code",
      "metadata": {
        "colab": {
          "base_uri": "https://localhost:8080/",
          "height": 282
        },
        "id": "ZSDgP4xhZWKm",
        "outputId": "3e78dde4-d8e5-4715-ca72-f2107004eea4"
      },
      "source": [
        "x_parabola = x # array for x\r\n",
        "y_parabola = y # array for y\r\n",
        "plt.figure()\r\n",
        "u = plt.plot(x_parabola,y_parabola,'ro') # plot the points\r\n",
        "t = np.linspace(0, 1, len(x_parabola)) # parameter t to parametrize x and y\r\n",
        "pxLagrange = lagrange(t, x) # X(T)\r\n",
        "pyLagrange = lagrange(t, y) # Y(T)\r\n",
        "n = 100\r\n",
        "ts = np.linspace(t[0],t[-1],n)\r\n",
        "xLagrange = pxLagrange(ts) # lagrange x coordinates\r\n",
        "yLagrange = pyLagrange(ts) # lagrange y coordinates\r\n",
        "plt.plot(xLagrange, yLagrange,'b-',label = \"Polynomial\")"
      ],
      "execution_count": null,
      "outputs": [
        {
          "output_type": "execute_result",
          "data": {
            "text/plain": [
              "[<matplotlib.lines.Line2D at 0x7f97c206e8d0>]"
            ]
          },
          "metadata": {
            "tags": []
          },
          "execution_count": 17
        },
        {
          "output_type": "display_data",
          "data": {
            "image/png": "[encoded data removed]",
            "text/plain": [
              "<Figure size 432x288 with 1 Axes>"
            ]
          },
          "metadata": {
            "tags": [],
            "needs_background": "light"
          }
        }
      ]
    },
    {
      "cell_type": "code",
      "metadata": {
        "colab": {
          "base_uri": "https://localhost:8080/"
        },
        "id": "iRHJ2RCgaq6j",
        "outputId": "99e634ce-c604-4313-9574-3f3127f58886"
      },
      "source": [
        "#problem 5\r\n",
        "\r\n",
        "#part a\r\n",
        "from scipy import integrate\r\n",
        "from scipy.integrate import trapz\r\n",
        "def f1(t):\r\n",
        "   return t**3+(3/5*t**2)+np.exp(-t)\r\n",
        "\r\n",
        "\r\n",
        "t = np.arange(1,31,1)\r\n",
        "y1 = f1(t)\r\n",
        "from scipy.integrate import simps\r\n",
        "I1 = simps(y1, x)\r\n",
        "print(I1)"
      ],
      "execution_count": null,
      "outputs": [
        {
          "output_type": "stream",
          "text": [
            "207907.77865830646\n"
          ],
          "name": "stdout"
        }
      ]
    },
    {
      "cell_type": "code",
      "metadata": {
        "colab": {
          "base_uri": "https://localhost:8080/"
        },
        "id": "ppvcRBd0gCjX",
        "outputId": "0df0d372-64c7-407c-9e53-ed6d8d2674e5"
      },
      "source": [
        "#part b\r\n",
        "gaussian_value, error=integrate.quadrature(f1, 1, 30)\r\n",
        "gaussian_value"
      ],
      "execution_count": null,
      "outputs": [
        {
          "output_type": "execute_result",
          "data": {
            "text/plain": [
              "207899.91753198384"
            ]
          },
          "metadata": {
            "tags": []
          },
          "execution_count": 25
        }
      ]
    },
    {
      "cell_type": "code",
      "metadata": {
        "colab": {
          "base_uri": "https://localhost:8080/"
        },
        "id": "EmUZ9tXVirtD",
        "outputId": "8e1b2148-5a29-4eb7-b0c7-2e630b7ae661"
      },
      "source": [
        "#part c\r\n",
        "error = (I1-gaussian_value)/I1\r\n",
        "error\r\n"
      ],
      "execution_count": null,
      "outputs": [
        {
          "output_type": "execute_result",
          "data": {
            "text/plain": [
              "3.781064072421762e-05"
            ]
          },
          "metadata": {
            "tags": []
          },
          "execution_count": 31
        }
      ]
    },
    {
      "cell_type": "code",
      "metadata": {
        "colab": {
          "base_uri": "https://localhost:8080/"
        },
        "id": "1pMOMfdRjTaA",
        "outputId": "f45d3721-a7a9-4777-cf31-d1f73461b547"
      },
      "source": [
        "# problem 6\r\n",
        "def vel(t,y):\r\n",
        "  return t**3+(4*t)+np.exp(-2*t)\r\n",
        "from scipy.integrate import solve_ivp\r\n",
        "sol = solve_ivp(vel, [0,4], [0],t_eval=[4])\r\n",
        "print(sol.t)\r\n",
        "\r\n",
        "\r\n",
        "print(sol.y)\r\n"
      ],
      "execution_count": null,
      "outputs": [
        {
          "output_type": "stream",
          "text": [
            "[4]\n",
            "[[96.50004365]]\n"
          ],
          "name": "stdout"
        }
      ]
    },
    {
      "cell_type": "code",
      "metadata": {
        "colab": {
          "base_uri": "https://localhost:8080/",
          "height": 299
        },
        "id": "5L8xPChNotWQ",
        "outputId": "a7a4a230-f720-4a2d-8905-731c9c8a6cac"
      },
      "source": [
        "# problem 7\r\n",
        "import numpy as np\r\n",
        "\r\n",
        "#Defining the lines of the box:\r\n",
        "horiz = np.array(range(100))/100.0\r\n",
        "y_1 = np.ones(100)\r\n",
        "plt.plot(horiz , y_1, 'b')\r\n",
        "vert = np.array(range(100))/100.0\r\n",
        "x_1 = np.ones(100)\r\n",
        "plt.plot(x_1 , vert, 'b')\r\n",
        "#Plotting the random points:\r\n",
        "import random\r\n",
        "inside = 0\r\n",
        "i=1\r\n",
        "n=500\r\n",
        "while (i<=n):\r\n",
        "  x = random.random()\r\n",
        "  y = random.random()\r\n",
        "  if ((x**2)+(y**2))<=1:\r\n",
        "    inside+=1\r\n",
        "    plt.plot(x , y , 'go')\r\n",
        "  else:\r\n",
        "    plt.plot(x , y , 'ro')\r\n",
        "  i+=1\r\n",
        "pi=(4*inside)/n\r\n",
        "print (\"The value of pi is:\")\r\n",
        "print(pi)\r\n",
        "plt.show() "
      ],
      "execution_count": null,
      "outputs": [
        {
          "output_type": "stream",
          "text": [
            "The value of pi is:\n",
            "3.12\n"
          ],
          "name": "stdout"
        },
        {
          "output_type": "display_data",
          "data": {
            "image/png": "[encoded data removed]",
            "text/plain": [
              "<Figure size 432x288 with 1 Axes>"
            ]
          },
          "metadata": {
            "tags": [],
            "needs_background": "light"
          }
        }
      ]
    },
    {
      "cell_type": "code",
      "metadata": {
        "id": "L8xu8oXRuRDR"
      },
      "source": [
        ""
      ],
      "execution_count": null,
      "outputs": []
    }
  ]
}